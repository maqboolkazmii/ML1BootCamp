{
 "cells": [
  {
   "cell_type": "markdown",
   "metadata": {},
   "source": [
    "# function to sign"
   ]
  },
  {
   "cell_type": "code",
   "execution_count": 8,
   "metadata": {},
   "outputs": [],
   "source": [
    "def signprint(signpath,cnic):\n",
    "\n",
    "    # Read the image using OpenCV\n",
    "    image = cv2.imread(signpath)\n",
    "    resized_image = cv2.resize(image, (130, 60))\n",
    "    # Convert the image to HSV\n",
    "    hsv_image = cv2.cvtColor(resized_image, cv2.COLOR_BGR2HSV)\n",
    "\n",
    "    # Define the lower and upper thresholds for black or dark pixels\n",
    "    lower_black = np.array([0, 0, 0])\n",
    "    upper_black = np.array([180, 255, 100])\n",
    "    # Create a mask for black pixels\n",
    "    black_mask = cv2.inRange(hsv_image, lower_black, upper_black)\n",
    "    cnic =cv2.imread(cnic)\n",
    "\n",
    "    # Define the coordinates for the top-left and bottom-right corners of the ROI\n",
    "    roi_top_left = (350, 220)\n",
    "    roi_bottom_right = (480, 280)\n",
    "\n",
    "    # Crop the image based on the defined ROI\n",
    "    roi = cnic[roi_top_left[1]:roi_bottom_right[1], roi_top_left[0]:roi_bottom_right[0]]\n",
    "    roi[black_mask !=0] = [0,0,0]\n",
    "\n",
    "\n",
    "    return cnic\n",
    "    "
   ]
  },
  {
   "cell_type": "markdown",
   "metadata": {},
   "source": [
    "# storing in file"
   ]
  },
  {
   "cell_type": "code",
   "execution_count": 12,
   "metadata": {},
   "outputs": [
    {
     "name": "stdout",
     "output_type": "stream",
     "text": [
      "Processing complete.\n"
     ]
    }
   ],
   "source": [
    "import os\n",
    "\n",
    "cnicpath = r'D:\\ML1BootCamp\\Day8_pillow_openCVtask\\idcard.jpg'\n",
    "input_folder = r'D:\\ML1BootCamp\\Day8_pillow_openCVtask\\cnicsign\\real1'\n",
    "output_folder = r'D:\\ML1BootCamp\\Day8_pillow_openCVtask\\cnicsign\\signedimage'\n",
    "\n",
    "for filename in os.listdir(input_folder):\n",
    "    if filename.endswith(\".png\"):\n",
    "        input_image_path = os.path.join(input_folder, filename)\n",
    "        output_image_path = os.path.join(output_folder, filename)\n",
    "        result_image = signprint(input_image_path, cnicpath)\n",
    "        cv2.imwrite(output_image_path, result_image)\n",
    "\n",
    "print(\"Processing complete.\")\n"
   ]
  }
 ],
 "metadata": {
  "kernelspec": {
   "display_name": "Python 3",
   "language": "python",
   "name": "python3"
  },
  "language_info": {
   "codemirror_mode": {
    "name": "ipython",
    "version": 3
   },
   "file_extension": ".py",
   "mimetype": "text/x-python",
   "name": "python",
   "nbconvert_exporter": "python",
   "pygments_lexer": "ipython3",
   "version": "3.10.7"
  }
 },
 "nbformat": 4,
 "nbformat_minor": 2
}
