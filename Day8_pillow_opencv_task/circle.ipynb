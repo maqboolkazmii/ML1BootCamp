{
 "cells": [
  {
   "cell_type": "code",
   "execution_count": 85,
   "metadata": {},
   "outputs": [],
   "source": [
    "import cv2\n",
    "import numpy as np \n",
    "import matplotlib.pyplot as plt \n",
    "\n",
    "path = 'D:/ML1BootCamp/Day8_pillow_openCVtask/abc.png'\n",
    "\n",
    "circle = cv2.imread(path)\n",
    "\n",
    "cv2.imshow('Circle Image', circle)\n",
    "cv2.waitKey(0)\n",
    "cv2.destroyAllWindows()"
   ]
  },
  {
   "cell_type": "code",
   "execution_count": 86,
   "metadata": {},
   "outputs": [],
   "source": [
    "path = r'D:/ML1BootCamp/Day8_pillow_openCVtask/abc.png'\n",
    "\n",
    "circle = cv2.imread(path)\n",
    "\n",
    "\n",
    "# Convert the image to HSV\n",
    "hsv_image = cv2.cvtColor(circle, cv2.COLOR_BGR2HSV)\n",
    "\n",
    "\n",
    "# Define the lower and upper HSV thresholds for red color\n",
    "lower_red = np.array([0, 100, 100], dtype=np.uint8)\n",
    "upper_red = np.array([10, 255, 255], dtype=np.uint8)\n",
    "\n",
    "# Create an HSV mask for the red object\n",
    "red_mask = cv2.inRange(hsv_image, lower_red, upper_red)\n",
    "\n",
    "result_image = cv2.bitwise_and(circle, circle, mask=red_mask)\n",
    "# Display the result\n",
    "cv2.imshow('Orignal Image', circle)\n",
    "cv2.imshow('hsv', hsv_image)\n",
    "cv2.imshow('red mask', red_mask)\n",
    "cv2.imshow('resulted', result_image)\n",
    "cv2.waitKey(0)\n",
    "cv2.destroyAllWindows()\n"
   ]
  },
  {
   "cell_type": "code",
   "execution_count": 90,
   "metadata": {},
   "outputs": [],
   "source": [
    "\n",
    "# circle = cv2.imread(path)\n",
    "\n",
    "# # Create a circular mask\n",
    "# height, width = circle.shape[:2]\n",
    "# mask = np.zeros((height, width), dtype=np.uint8)\n",
    "# center = (width // 2, height // 2)\n",
    "# radius = 71\n",
    "# cv2.circle(mask, center, radius, 255, thickness=6)\n",
    "\n",
    "# # Set the color of the circle to black\n",
    "# image[mask == 255] = [0, 0, 0]\n",
    "\n",
    "# # Display the result\n",
    "# cv2.imshow('red', circle)\n",
    "# cv2.imshow('mask', mask)\n",
    "# cv2.imshow('Modified Image', image)\n",
    "# cv2.waitKey(0)\n",
    "# cv2.destroyAllWindows()\n",
    "\n",
    "\n",
    "\n",
    "\n"
   ]
  }
 ],
 "metadata": {
  "kernelspec": {
   "display_name": "Python 3",
   "language": "python",
   "name": "python3"
  },
  "language_info": {
   "codemirror_mode": {
    "name": "ipython",
    "version": 3
   },
   "file_extension": ".py",
   "mimetype": "text/x-python",
   "name": "python",
   "nbconvert_exporter": "python",
   "pygments_lexer": "ipython3",
   "version": "3.10.7"
  }
 },
 "nbformat": 4,
 "nbformat_minor": 2
}
