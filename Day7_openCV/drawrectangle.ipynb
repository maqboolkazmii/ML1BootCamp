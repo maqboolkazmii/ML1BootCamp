{
 "cells": [
  {
   "cell_type": "code",
   "execution_count": 25,
   "metadata": {},
   "outputs": [
    {
     "name": "stdout",
     "output_type": "stream",
     "text": [
      "File content:\n",
      "0 0.324165 0.424779 0.223969 0.513274\n",
      "1 0.569745 0.592920 0.153242 0.318584\n",
      "\n",
      "\n",
      "File content line by line:\n",
      "['0', '0.324165', '0.424779', '0.223969', '0.513274\\n']\n",
      "0.324165\n",
      "['1', '0.569745', '0.592920', '0.153242', '0.318584\\n']\n",
      "0.569745\n",
      "0.569745 0.59292 0.153242 0.318584\n"
     ]
    }
   ],
   "source": [
    "\n",
    "import cv2\n",
    "file_path = r\"D:\\ML1BootCamp\\Day9_filehandling_imageAnotation\\new\\6.txt\"\n",
    "\n",
    "try:\n",
    "    with open(file_path, 'r') as file:\n",
    "        content = file.read()\n",
    "        print(\"File content:\")\n",
    "        print(content)\n",
    "\n",
    "\n",
    "        imgpath = r'D:\\ML1BootCamp\\Day9_filehandling_imageAnotation\\cat_dog\\6.jpeg'\n",
    "\n",
    "        # Alternatively, you can read line by line\n",
    "        file.seek(0)  \n",
    "        print(\"\\nFile content line by line:\")\n",
    "        for line in file:\n",
    "            l= line.split(' ')\n",
    "            print(l) \n",
    "            print(l[1]) \n",
    "            \n",
    "        \n",
    "\n",
    "        x1=float(l[1])\n",
    "        y1=float(l[2])\n",
    "        x2=float(l[3])\n",
    "        y2=float(l[4])\n",
    "\n",
    "        img =cv2.imread(imgpath)\n",
    "        cv2.rectangle(img, (x1, y1), (x2, y2), (0, 255, 0), 2)\n",
    "        cv2.imshow('img',img)\n",
    "        cv2.waitKey(0)\n",
    "        cv2.destroyAllWindows()\n",
    "\n",
    "except FileNotFoundError:\n",
    "    print(f\"File not found: {file_path}\")\n",
    "\n",
    "except Exception as e:\n",
    "    print(f\"An error occurred: {e}\")\n"
   ]
  },
  {
   "cell_type": "code",
   "execution_count": 42,
   "metadata": {},
   "outputs": [
    {
     "name": "stdout",
     "output_type": "stream",
     "text": [
      "Complete\n"
     ]
    }
   ],
   "source": [
    "import os\n",
    "import cv2\n",
    "\n",
    "def draw_annotation(img, annotations):\n",
    "    for annotation in annotations:\n",
    "        parts = annotation.split()\n",
    "        class_label = int(parts[0])\n",
    "        x_center, y_center, width, height = map(float, parts[1:])\n",
    "\n",
    "        img_height, img_width, _ = img.shape\n",
    "        x1 = int((x_center - width / 2) * img_width)\n",
    "        y1 = int((y_center - height / 2) * img_height)\n",
    "        x2 = int((x_center + width / 2) * img_width)\n",
    "        y2 = int((y_center + height / 2) * img_height)\n",
    "\n",
    "        cv2.rectangle(img, (x1, y1), (x2, y2), color=(0, 255, 0), thickness=2)\n",
    "\n",
    "    return img\n",
    "\n",
    "def process_images(img_folder, annotation_folder, output_folder):\n",
    "    os.makedirs(output_folder, exist_ok=True)\n",
    "    image_files = [file for file in os.listdir(img_folder) if file.endswith('.jpeg')]\n",
    "\n",
    "    for image_file in image_files:\n",
    "        image_path = os.path.join(img_folder, image_file)\n",
    "        annotation_path = os.path.join(annotation_folder, image_file.replace('.jpeg', '.txt'))\n",
    "        output_path = os.path.join(output_folder, f\"annotated_{image_file}\")\n",
    "\n",
    "        if os.path.exists(annotation_path):\n",
    "            img = cv2.imread(image_path)\n",
    "            with open(annotation_path, 'r') as file:\n",
    "                annotations = file.readlines()\n",
    "\n",
    "            annotated_image = draw_annotation(img, annotations)\n",
    "            cv2.imwrite(output_path, annotated_image)\n",
    "\n",
    "if __name__ == \"__main__\":\n",
    "    img_folder = r'D:\\ML1BootCamp\\Day9_filehandling_imageAnotation\\cat_dog'\n",
    "    annotation_folder = r'D:\\ML1BootCamp\\Day9_filehandling_imageAnotation\\new'\n",
    "    output_folder = r'D:\\ML1BootCamp\\Day9_filehandling_imageAnotation\\output'\n",
    "\n",
    "    # function\n",
    "    process_images(img_folder, annotation_folder, output_folder)\n",
    "\n",
    "    print('Complete')\n"
   ]
  }
 ],
 "metadata": {
  "kernelspec": {
   "display_name": "Python 3",
   "language": "python",
   "name": "python3"
  },
  "language_info": {
   "codemirror_mode": {
    "name": "ipython",
    "version": 3
   },
   "file_extension": ".py",
   "mimetype": "text/x-python",
   "name": "python",
   "nbconvert_exporter": "python",
   "pygments_lexer": "ipython3",
   "version": "3.10.7"
  }
 },
 "nbformat": 4,
 "nbformat_minor": 2
}
