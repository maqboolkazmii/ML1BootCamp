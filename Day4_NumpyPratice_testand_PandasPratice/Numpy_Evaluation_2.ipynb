{
 "cells": [
  {
   "cell_type": "markdown",
   "id": "7ec98f23",
   "metadata": {},
   "source": [
    "### Questions 1\n",
    "\n",
    "Create a matrix of 5x5 with random integers, after that swap its first and last rows."
   ]
  },
  {
   "cell_type": "code",
   "execution_count": 88,
   "id": "20e6c800",
   "metadata": {},
   "outputs": [],
   "source": [
    "def swp(metrix):\n",
    "    metrix[[0,-1],:] = metrix[[-1,0],:]\n",
    "\n",
    "    return metrix"
   ]
  },
  {
   "cell_type": "code",
   "execution_count": 89,
   "id": "4d2e5cce",
   "metadata": {},
   "outputs": [
    {
     "name": "stdout",
     "output_type": "stream",
     "text": [
      "[[6. 9. 0. 9. 3.]\n",
      " [8. 4. 0. 7. 9.]\n",
      " [8. 3. 6. 5. 0.]\n",
      " [2. 8. 4. 5. 9.]\n",
      " [5. 3. 6. 1. 1.]]\n"
     ]
    },
    {
     "data": {
      "text/plain": [
       "array([[5., 3., 6., 1., 1.],\n",
       "       [8., 4., 0., 7., 9.],\n",
       "       [8., 3., 6., 5., 0.],\n",
       "       [2., 8., 4., 5., 9.],\n",
       "       [6., 9., 0., 9., 3.]])"
      ]
     },
     "execution_count": 89,
     "metadata": {},
     "output_type": "execute_result"
    }
   ],
   "source": [
    "import numpy as np\n",
    "a = np.empty((5,5))\n",
    "for i in range(5):\n",
    "  for j in range(5):\n",
    "      a[i, j] = np.random.randint(0, 10)\n",
    "\n",
    "print(a)\n",
    "swp(a)\n",
    "        "
   ]
  },
  {
   "cell_type": "markdown",
   "id": "441f7689",
   "metadata": {},
   "source": [
    "## Builtin function"
   ]
  },
  {
   "cell_type": "code",
   "execution_count": 90,
   "id": "fbab7daa",
   "metadata": {},
   "outputs": [
    {
     "name": "stdout",
     "output_type": "stream",
     "text": [
      "[[16 25 19 10 21]\n",
      " [23  7  9 25 14]\n",
      " [ 5 17 14 10 24]\n",
      " [12  5 18 15  8]\n",
      " [18  3 20  5  4]]\n"
     ]
    },
    {
     "data": {
      "text/plain": [
       "array([[18,  3, 20,  5,  4],\n",
       "       [23,  7,  9, 25, 14],\n",
       "       [ 5, 17, 14, 10, 24],\n",
       "       [12,  5, 18, 15,  8],\n",
       "       [16, 25, 19, 10, 21]])"
      ]
     },
     "execution_count": 90,
     "metadata": {},
     "output_type": "execute_result"
    }
   ],
   "source": [
    "m = np.random.randint(1,26,(5,5))\n",
    "print(m)\n",
    "swp(m)\n",
    "\n"
   ]
  },
  {
   "cell_type": "markdown",
   "id": "804d6649",
   "metadata": {},
   "source": [
    "### Question 2\n",
    "\n",
    "Create a 2D array, remove all rows that contain at least one zero."
   ]
  },
  {
   "cell_type": "code",
   "execution_count": 91,
   "id": "1e46519d",
   "metadata": {},
   "outputs": [
    {
     "data": {
      "text/plain": [
       "[[1, 2, 3, 4], [1, 2, 9, 4]]"
      ]
     },
     "execution_count": 91,
     "metadata": {},
     "output_type": "execute_result"
    }
   ],
   "source": [
    "def remove_zerorows(arr):\n",
    "    new_arr = []\n",
    "    for row in arr:\n",
    "        if not any(x == 0 for x in row):\n",
    "            new_arr.append(row)\n",
    "\n",
    "    return new_arr\n",
    "\n",
    "\n",
    "arr = [[1, 2, 3, 0], [1, 2, 3, 4], [1, 2, 0, 4],[1, 2, 9, 4],[1, 0, 9, 4]]\n",
    "remove_zerorows(arr)\n"
   ]
  },
  {
   "cell_type": "markdown",
   "id": "2eaedae6",
   "metadata": {},
   "source": [
    "### Question 3\n",
    "\n",
    "Write a NumPy program to find the real and imaginary parts of an array of complex numbers.<br>\n",
    "Original array [ 1.00000000+0.j 0.70710678+0.70710678j]"
   ]
  },
  {
   "cell_type": "code",
   "execution_count": 105,
   "id": "5e2d4526",
   "metadata": {},
   "outputs": [
    {
     "name": "stdout",
     "output_type": "stream",
     "text": [
      " Real Part [1.         0.70710678] , and Imaginary part [0.         0.70710678]\n"
     ]
    }
   ],
   "source": [
    "arr = [1.00000000+0.j, 0.70710678+0.70710678j]\n",
    "print(f\" Real Part {np.real(arr)} , and Imaginary part {np.imag(arr)}\")"
   ]
  },
  {
   "cell_type": "markdown",
   "id": "5d22a191",
   "metadata": {},
   "source": [
    "### Question 4\n",
    "\n",
    "Write a NumPy program to remove the duplicate elements of an array.<br>\n",
    "Original array:\n",
    "[10 10 20 20 30 30]\n"
   ]
  },
  {
   "cell_type": "code",
   "execution_count": 93,
   "id": "96a86a50",
   "metadata": {},
   "outputs": [
    {
     "data": {
      "text/plain": [
       "[1, 2, 3, 4, 5, 6, 7, 8]"
      ]
     },
     "execution_count": 93,
     "metadata": {},
     "output_type": "execute_result"
    }
   ],
   "source": [
    "def removeduplicate(arr):\n",
    "    b = []\n",
    "    for x in a:\n",
    "        if x not in b:\n",
    "            b.append(x)\n",
    "    return b\n",
    "\n",
    "a = [1, 1, 2, 3, 4, 5, 5, 6, 7, 7, 8]\n",
    "removeduplicate(a)"
   ]
  },
  {
   "cell_type": "markdown",
   "id": "80f3538a",
   "metadata": {},
   "source": [
    "### Question 5\n",
    "\n",
    "Write a NumPy program to create a 3x3x3 array with random values."
   ]
  },
  {
   "cell_type": "code",
   "execution_count": 94,
   "id": "2364fee5",
   "metadata": {},
   "outputs": [
    {
     "name": "stdout",
     "output_type": "stream",
     "text": [
      "[[[4. 4. 6.]\n",
      "  [3. 3. 6.]\n",
      "  [6. 1. 4.]]\n",
      "\n",
      " [[3. 4. 1.]\n",
      "  [9. 7. 9.]\n",
      "  [8. 4. 5.]]\n",
      "\n",
      " [[0. 6. 3.]\n",
      "  [7. 9. 1.]\n",
      "  [1. 3. 6.]]]\n"
     ]
    }
   ],
   "source": [
    "import numpy as np\n",
    "a = np.empty((3, 3, 3))\n",
    "for i in range(3):\n",
    "  for j in range(3):\n",
    "    for k in range(3):\n",
    "      a[i, j, k] = np.random.randint(0, 10)\n",
    "print(a)"
   ]
  },
  {
   "cell_type": "markdown",
   "id": "46d44a27",
   "metadata": {},
   "source": [
    "## Builtin function"
   ]
  },
  {
   "cell_type": "code",
   "execution_count": 95,
   "id": "462e67c5",
   "metadata": {},
   "outputs": [
    {
     "data": {
      "text/plain": [
       "array([[[0.47022999, 0.69278234, 0.70616768],\n",
       "        [0.93677409, 0.87441116, 0.19653094],\n",
       "        [0.80579199, 0.39407551, 0.85028633]],\n",
       "\n",
       "       [[0.13506745, 0.21116749, 0.38657745],\n",
       "        [0.89092976, 0.34295156, 0.27008698],\n",
       "        [0.7430208 , 0.0525084 , 0.975101  ]],\n",
       "\n",
       "       [[0.44904035, 0.60855974, 0.02233924],\n",
       "        [0.53296157, 0.84712703, 0.04919377],\n",
       "        [0.5968618 , 0.33141904, 0.3623236 ]]])"
      ]
     },
     "execution_count": 95,
     "metadata": {},
     "output_type": "execute_result"
    }
   ],
   "source": [
    "np.random.random((3,3,3))"
   ]
  },
  {
   "cell_type": "markdown",
   "id": "abd66406",
   "metadata": {},
   "source": [
    "### Question 6\n",
    "\n",
    "Write a NumPy program to create a random vector of size 10 and sort it.\n",
    "<b>Note:<\\b> Do not use builtin sorting function"
   ]
  },
  {
   "cell_type": "code",
   "execution_count": 96,
   "id": "6d942fb4",
   "metadata": {},
   "outputs": [
    {
     "name": "stdout",
     "output_type": "stream",
     "text": [
      "Original List: [ 1 23 18 48 39 37  6  4 30 24]\n",
      "Sorted List [ 1  4  6 18 23 24 30 37 39 48]\n"
     ]
    }
   ],
   "source": [
    "def sort(lis):\n",
    "    for i in range(0, len(lis)):\n",
    "        for j in range(i+1, len(lis)):\n",
    "            if lis[i] >= lis[j]:\n",
    "                lis[i], lis[j] = lis[j],lis[i]\n",
    "    return lis\n",
    "\n",
    "arr=np.random.randint(0, 50, 10)\n",
    "print(\"Original List:\", arr)\n",
    "l = sort(arr)\n",
    "print(\"Sorted List\", l)"
   ]
  },
  {
   "cell_type": "markdown",
   "id": "e0c1e8bb",
   "metadata": {},
   "source": [
    "### Question 7\n",
    "\n",
    "Write a NumPy program to check two random arrays are equal or not."
   ]
  },
  {
   "cell_type": "code",
   "execution_count": 97,
   "id": "248b2e68",
   "metadata": {},
   "outputs": [
    {
     "name": "stdout",
     "output_type": "stream",
     "text": [
      "equal\n",
      "equal\n",
      "equal\n",
      "equal\n",
      "equal\n",
      "equal\n",
      "equal\n",
      "equal\n",
      "equal\n",
      "equal\n"
     ]
    }
   ],
   "source": [
    "a = np.random.random((10))\n",
    "b = np.random.random((10))\n",
    "\n",
    "for i in range(len(a)):\n",
    " \n",
    "    if a[i] != b[i]:\n",
    "         print(\"equal\")\n",
    "    else:\n",
    "        print(\"Not Equal\")\n",
    "\n"
   ]
  },
  {
   "cell_type": "code",
   "execution_count": 98,
   "id": "e9c571cc",
   "metadata": {},
   "outputs": [
    {
     "name": "stdout",
     "output_type": "stream",
     "text": [
      "Both List is Not Equal\n"
     ]
    }
   ],
   "source": [
    "a = np.random.random((10))\n",
    "b = np.random.random((10))\n",
    "if np.allclose(a, b) == True:\n",
    "    print(\"Both List is Equal\")\n",
    "else:\n",
    "    print(\"Both List is Not Equal\")"
   ]
  },
  {
   "cell_type": "markdown",
   "id": "234405fe",
   "metadata": {},
   "source": [
    "### Question 8 \n",
    "\n",
    "Write a NumPy program to sort a given array of shape 2 along the first axis, last axis and on flattened array.<br>\n",
    "\n",
    "Original array:<br>\n",
    "[[10 40]<br>\n",
    "[30 20]]"
   ]
  },
  {
   "cell_type": "code",
   "execution_count": 99,
   "id": "1b349b99",
   "metadata": {},
   "outputs": [
    {
     "data": {
      "text/plain": [
       "array([[10, 20],\n",
       "       [30, 40]])"
      ]
     },
     "execution_count": 99,
     "metadata": {},
     "output_type": "execute_result"
    }
   ],
   "source": [
    "array =np.array([[10, 40],\n",
    "                 [30, 20]])\n",
    "\n",
    "np.sort(array, axis=0)"
   ]
  },
  {
   "cell_type": "markdown",
   "id": "2467ff08",
   "metadata": {},
   "source": [
    "### Question 9\n",
    "\n",
    "Write a NumPy program to get the floor, ceiling and truncated values of the elements of a numpy array.<br>\n",
    "\n",
    "Original array:<br>\n",
    "[-1.6 -1.5 -0.3 0.1 1.4 1.8 2. ]"
   ]
  },
  {
   "cell_type": "code",
   "execution_count": 100,
   "id": "8fa2a543",
   "metadata": {},
   "outputs": [
    {
     "name": "stdout",
     "output_type": "stream",
     "text": [
      "Original array: [-1.6 -1.5 -0.3  0.1  1.4  1.8  2. ]\n",
      "Floor: [-2. -2. -1.  0.  1.  1.  2.]\n",
      "Ceiling: [-1. -1. -0.  1.  2.  2.  2.]\n",
      "Truncated: [-1. -1. -0.  0.  1.  1.  2.]\n"
     ]
    }
   ],
   "source": [
    "arr = np.array([-1.6, -1.5, -0.3, 0.1, 1.4, 1.8, 2.])\n",
    "\n",
    "\n",
    "print('Original array:', arr)\n",
    "print('Floor:', np.floor(arr))\n",
    "print('Ceiling:', np.ceil(arr))\n",
    "print('Truncated:', np.trunc(arr))"
   ]
  },
  {
   "cell_type": "markdown",
   "id": "9434026c",
   "metadata": {},
   "source": [
    "### Questions 10\n",
    "\n",
    "Write a NumPy program to display all the dates for the month of March, 2017"
   ]
  },
  {
   "cell_type": "code",
   "execution_count": 101,
   "id": "280bc84e",
   "metadata": {},
   "outputs": [
    {
     "name": "stdout",
     "output_type": "stream",
     "text": [
      "March, 2017\n",
      "['2017-03-01' '2017-03-02' '2017-03-03' '2017-03-04' '2017-03-05'\n",
      " '2017-03-06' '2017-03-07' '2017-03-08' '2017-03-09' '2017-03-10'\n",
      " '2017-03-11' '2017-03-12' '2017-03-13' '2017-03-14' '2017-03-15'\n",
      " '2017-03-16' '2017-03-17' '2017-03-18' '2017-03-19' '2017-03-20'\n",
      " '2017-03-21' '2017-03-22' '2017-03-23' '2017-03-24' '2017-03-25'\n",
      " '2017-03-26' '2017-03-27' '2017-03-28' '2017-03-29' '2017-03-30'\n",
      " '2017-03-31']\n"
     ]
    }
   ],
   "source": [
    "print(\"March, 2017\")\n",
    "print(np.arange('2017-03', '2017-04', dtype='datetime64[D]'))"
   ]
  },
  {
   "cell_type": "markdown",
   "id": "34eb3ebf",
   "metadata": {},
   "source": [
    "### Question 11\n",
    "\n",
    "Write a NumPy program to create 24 python datetime.datetime objects (single object for every hour), and then put it in a numpy array."
   ]
  },
  {
   "cell_type": "code",
   "execution_count": 102,
   "id": "dfa631ec",
   "metadata": {},
   "outputs": [
    {
     "name": "stdout",
     "output_type": "stream",
     "text": [
      "['2023-12-19T00' '2023-12-19T01' '2023-12-19T02' '2023-12-19T03'\n",
      " '2023-12-19T04' '2023-12-19T05' '2023-12-19T06' '2023-12-19T07'\n",
      " '2023-12-19T08' '2023-12-19T09' '2023-12-19T10' '2023-12-19T11'\n",
      " '2023-12-19T12' '2023-12-19T13' '2023-12-19T14' '2023-12-19T15'\n",
      " '2023-12-19T16' '2023-12-19T17' '2023-12-19T18' '2023-12-19T19'\n",
      " '2023-12-19T20' '2023-12-19T21' '2023-12-19T22' '2023-12-19T23']\n"
     ]
    },
    {
     "data": {
      "text/plain": [
       "array([473063., 473063., 473063., 473063., 473063., 473063., 473063.,\n",
       "       473063., 473063., 473063., 473063., 473063., 473063., 473063.,\n",
       "       473063., 473063., 473063., 473063., 473063., 473063., 473063.,\n",
       "       473063., 473063., 473063.])"
      ]
     },
     "execution_count": 102,
     "metadata": {},
     "output_type": "execute_result"
    }
   ],
   "source": [
    "arr=np.zeros(24)\n",
    "a=np.arange(\"2023-12-19\",\"2023-12-20\",dtype='datetime64[h]')\n",
    "print(a)\n",
    "for i in range(len(arr)):\n",
    "    for j in a:\n",
    "        arr[i]=j\n",
    "arr"
   ]
  },
  {
   "cell_type": "markdown",
   "id": "e34c59d5",
   "metadata": {},
   "source": [
    "### Question 12\n",
    "\n",
    "Write a NumPy program to concatenate element-wise two arrays of string.<br>\n",
    "<b>Example <\\b>\n",
    "Array1:<br>\n",
    "['Python' 'PHP']<br>\n",
    "Array2:<br>\n",
    "[' Java' ' C++']<br>\n",
    "new array:<br>\n",
    "['Python Java' 'PHP C++']<br>"
   ]
  },
  {
   "cell_type": "code",
   "execution_count": 103,
   "id": "0e13fddd",
   "metadata": {},
   "outputs": [
    {
     "data": {
      "text/plain": [
       "['Python  Java', 'PHP  C++']"
      ]
     },
     "execution_count": 103,
     "metadata": {},
     "output_type": "execute_result"
    }
   ],
   "source": [
    "arr1 = np.array(['Python', 'PHP'])\n",
    "arr2 = np.array([' Java', ' C++'])\n",
    "\n",
    "\n",
    "d = []\n",
    "for i in range(len(arr1)):\n",
    "    d.append(arr1[i] +\" \"+arr2[i])\n",
    "d"
   ]
  },
  {
   "cell_type": "markdown",
   "id": "0c433989",
   "metadata": {},
   "source": [
    "## builtin function"
   ]
  },
  {
   "cell_type": "code",
   "execution_count": 104,
   "id": "cd6b480c",
   "metadata": {},
   "outputs": [
    {
     "data": {
      "text/plain": [
       "array(['Python Java', 'PHP C++'], dtype='<U11')"
      ]
     },
     "execution_count": 104,
     "metadata": {},
     "output_type": "execute_result"
    }
   ],
   "source": [
    "arr1 = np.array(['Python', 'PHP'])\n",
    "arr2 = np.array([' Java', ' C++'])\n",
    "\n",
    "c = np.char.add(arr1, arr2)\n",
    "c"
   ]
  }
 ],
 "metadata": {
  "kernelspec": {
   "display_name": "Python 3 (ipykernel)",
   "language": "python",
   "name": "python3"
  },
  "language_info": {
   "codemirror_mode": {
    "name": "ipython",
    "version": 3
   },
   "file_extension": ".py",
   "mimetype": "text/x-python",
   "name": "python",
   "nbconvert_exporter": "python",
   "pygments_lexer": "ipython3",
   "version": "3.10.7"
  }
 },
 "nbformat": 4,
 "nbformat_minor": 5
}
