{
 "cells": [
  {
   "cell_type": "code",
   "execution_count": null,
   "metadata": {},
   "outputs": [],
   "source": [
    "Str = 'I am a boy.'\n",
    "\n",
    "s=Str.strip('0123456789!@#$%^&*()_-+=<>?/,.:;{}[]`~\\'\"\\\\')\n",
    "l=s.split(' ')\n",
    "len(l[-1])"
   ]
  },
  {
   "cell_type": "markdown",
   "metadata": {},
   "source": [
    "# Last word Lenth"
   ]
  },
  {
   "cell_type": "code",
   "execution_count": null,
   "metadata": {},
   "outputs": [],
   "source": [
    "def last_Word_length(sentence):\n",
    "    sentence = sentence.strip('0123456789!@#$%^&*()_-+=<>?/,.:;{}[]`~\\'\"\\\\')\n",
    "    word = sentence.split(' ')\n",
    "    last_word =word[-1]\n",
    "\n",
    "    return len(last_word)\n",
    "\n",
    "sentence = 'my name is Maqbool!'\n",
    "last_Word_length(sentence)"
   ]
  },
  {
   "cell_type": "markdown",
   "metadata": {},
   "source": [
    "# Max and Min in list without max function"
   ]
  },
  {
   "cell_type": "code",
   "execution_count": null,
   "metadata": {},
   "outputs": [],
   "source": [
    "l = [2,3,44,66,-1,34,43]\n",
    "max = l[0]\n",
    "for c in l:\n",
    "    if max <c:\n",
    "        max =c\n",
    "\n",
    "print(max)"
   ]
  },
  {
   "cell_type": "code",
   "execution_count": null,
   "metadata": {},
   "outputs": [],
   "source": [
    "def max_in_list(lis):\n",
    "    max =lis[0]  #assuming frist num max\n",
    "    min =lis[0]\n",
    "    for num in lis:\n",
    "        if num > max:\n",
    "            max = num\n",
    "        elif num < min:\n",
    "            min = num\n",
    "\n",
    "    return max ,min\n",
    "l = [2,3,44,6,-1,34,403]\n",
    "print(f\"Max & Min Values in list{max_in_list(l)}\")"
   ]
  },
  {
   "cell_type": "markdown",
   "metadata": {},
   "source": [
    "# index of min and max"
   ]
  },
  {
   "cell_type": "code",
   "execution_count": null,
   "metadata": {},
   "outputs": [],
   "source": [
    "def max_in_list(lis):\n",
    "    max =lis[0]  #assuming frist num max\n",
    "    min =lis[0]\n",
    "    for num in lis:\n",
    "        if num > max:\n",
    "            max = num\n",
    "        elif num < min:\n",
    "            min = num\n",
    "\n",
    "    return lis.index(max) ,lis.index(min)\n",
    "l = [2,3,44,6,-1,34,403]\n",
    "print(f\"Max & Min Values in list{max_in_list(l)}\")"
   ]
  },
  {
   "cell_type": "markdown",
   "metadata": {},
   "source": [
    "# sum of min and max num"
   ]
  },
  {
   "cell_type": "code",
   "execution_count": null,
   "metadata": {},
   "outputs": [],
   "source": [
    "l = [2,3,44,6,-1,34,403]\n",
    "\n",
    "max = 0\n",
    "min =0\n",
    "for i in range(len(l)):\n",
    "    if l[i]> max:\n",
    "        max = l[i]\n",
    "    if l[i]< min:\n",
    "        min = l[i]\n",
    "s =min+max\n",
    "print(s)\n",
    "        \n"
   ]
  },
  {
   "cell_type": "markdown",
   "metadata": {},
   "source": [
    "# String Swap capital and small"
   ]
  },
  {
   "cell_type": "code",
   "execution_count": null,
   "metadata": {},
   "outputs": [],
   "source": [
    "str1 = 'MAQ'\n",
    "str2 = 'maq'\n",
    "\n",
    "new_str = ''\n",
    "for i in range(len(str1)):\n",
    "    new_str += str1[i]\n",
    "    new_str += str2[i]\n",
    "\n",
    "print(new_str)"
   ]
  },
  {
   "cell_type": "code",
   "execution_count": null,
   "metadata": {},
   "outputs": [],
   "source": [
    "str1 = 'MAQBOOL'\n",
    "str2 = 'maqbool'\n",
    "\n",
    "new_str = ''\n",
    "\n",
    "for i in range(len(str1)):\n",
    "    new_str += str1[i]\n",
    "    new_str += str2[i]\n",
    "print(new_str)"
   ]
  },
  {
   "cell_type": "code",
   "execution_count": 6,
   "metadata": {},
   "outputs": [
    {
     "name": "stdout",
     "output_type": "stream",
     "text": [
      "66\n"
     ]
    }
   ],
   "source": [
    "l = [2,3,44,66,34,43]\n",
    "max1 = 0\n",
    "max2 = 0\n",
    "for c in l:\n",
    "    if c > max1:\n",
    "        max2 =max1\n",
    "        max1 =c\n",
    "    elif c > max2:\n",
    "        max2 = c\n",
    "\n",
    "\n",
    "print(max1)"
   ]
  },
  {
   "cell_type": "markdown",
   "metadata": {},
   "source": [
    "# Second Max"
   ]
  },
  {
   "cell_type": "code",
   "execution_count": 7,
   "metadata": {},
   "outputs": [
    {
     "name": "stdout",
     "output_type": "stream",
     "text": [
      "44\n"
     ]
    }
   ],
   "source": [
    "l = [2, 3, 44, 66, 34, 43]\n",
    "max1 = max2 = 0\n",
    "\n",
    "for c in l:\n",
    "    if c > max1:\n",
    "        max2 = max1\n",
    "        max1 = c\n",
    "    elif c > max2:\n",
    "        max2 = c\n",
    "\n",
    "print(max2)\n"
   ]
  },
  {
   "cell_type": "markdown",
   "metadata": {},
   "source": [
    "# Maximum Sub array"
   ]
  },
  {
   "cell_type": "code",
   "execution_count": 21,
   "metadata": {},
   "outputs": [
    {
     "name": "stdout",
     "output_type": "stream",
     "text": [
      "13\n"
     ]
    }
   ],
   "source": [
    "my_array = [2, -3, 4, -1, 2, 1, 5, 3]\n",
    "\n",
    "sum = my_array[0]\n",
    "sub = []\n",
    "for i in range(1,len(my_array)):\n",
    "    sum += my_array[i]\n",
    "\n",
    "print(sum)"
   ]
  },
  {
   "cell_type": "code",
   "execution_count": 30,
   "metadata": {},
   "outputs": [
    {
     "name": "stdout",
     "output_type": "stream",
     "text": [
      "2\n"
     ]
    }
   ],
   "source": [
    "str1 = \"ansdmf\"\n",
    "str2 = 'adf'\n",
    "\n",
    "for i in range(len(str2)):\n",
    "    for j in range(len(str1)):\n",
    "        if (str2[i] == str1[j]):\n",
    "            j +=1\n",
    "\n",
    "print()\n",
    "#str2[1] == str1[3]"
   ]
  },
  {
   "cell_type": "markdown",
   "metadata": {},
   "source": [
    "# Sub String In String"
   ]
  },
  {
   "cell_type": "code",
   "execution_count": 44,
   "metadata": {},
   "outputs": [
    {
     "name": "stdout",
     "output_type": "stream",
     "text": [
      "'world' is Substring of 'Hello, world!'\n"
     ]
    }
   ],
   "source": [
    "str1 = \"Hello, world!\"\n",
    "str2 = \"world\"\n",
    "\n",
    "\n",
    "# for i in range(len(str1)):\n",
    "#     if str1[i:1+len(str2)] == str2:\n",
    "#         print(\"true\")\n",
    "for i in range(len(str1)):\n",
    " if str1[i:i+len(str2)] ==str2:\n",
    "  print(f\"'{str2}' is Substring of '{str1}'\")\n"
   ]
  }
 ],
 "metadata": {
  "kernelspec": {
   "display_name": "Python 3",
   "language": "python",
   "name": "python3"
  },
  "language_info": {
   "codemirror_mode": {
    "name": "ipython",
    "version": 3
   },
   "file_extension": ".py",
   "mimetype": "text/x-python",
   "name": "python",
   "nbconvert_exporter": "python",
   "pygments_lexer": "ipython3",
   "version": "3.10.7"
  }
 },
 "nbformat": 4,
 "nbformat_minor": 2
}
