{
 "cells": [
  {
   "cell_type": "code",
   "execution_count": 1,
   "metadata": {},
   "outputs": [
    {
     "name": "stdout",
     "output_type": "stream",
     "text": [
      "[5.]\n",
      "1\n",
      "[5. 6.]\n",
      "2\n",
      "[5. 6. 8.]\n",
      "3\n",
      "[6. 8.]\n",
      "2\n",
      "[6.]\n",
      "1\n"
     ]
    }
   ],
   "source": [
    "import numpy as np\n",
    "arr = np.zeros(10)\n",
    "index = 0\n",
    "for i in range(20):\n",
    "\n",
    "    option = input(\"Enter 1:enque , 2: deque , 3:exit\")\n",
    "    if (option == '1'):\n",
    "        if index == 10:\n",
    "            print(\"Queue is Full\")\n",
    "        else:\n",
    "            num = int(input(\"Enter Number\"))\n",
    "            arr[index] =num\n",
    "            print(arr[:index+1])\n",
    "            index +=1\n",
    "            print(index)\n",
    "    if (option =='2'):\n",
    "        if index == 0:\n",
    "            print(\"Qeue is Empty\")\n",
    "        else:\n",
    "            arr[0] =0\n",
    "            print(arr[1:index])\n",
    "            index -=1\n",
    "            print(index)\n",
    "    if option =='3':\n",
    "        break"
   ]
  },
  {
   "cell_type": "code",
   "execution_count": 1,
   "metadata": {},
   "outputs": [
    {
     "name": "stdout",
     "output_type": "stream",
     "text": [
      "Queue: [1, 2, 3, 9, 8]\n",
      "Dequeue: 1\n",
      "Dequeue: 2\n",
      "Dequeue: 3\n",
      "Queue after dequeue: [9, 8]\n"
     ]
    }
   ],
   "source": [
    "def enque(queue, item):\n",
    "    queue.append(item)\n",
    "\n",
    "def deque(queue):\n",
    "    if not (len(queue) == 0):\n",
    "        return queue.pop(0)\n",
    "    else:\n",
    "        print(\"Empty\")\n",
    "\n",
    "\n",
    "\n",
    "\n",
    "\n",
    "\n",
    "lis = []\n",
    "\n",
    "enque(lis, 1)\n",
    "enque(lis, 2)\n",
    "enque(lis, 3)\n",
    "enque(lis, 9)\n",
    "enque(lis, 8)\n",
    "\n",
    "print(\"Queue:\", lis)\n",
    "\n",
    "print(\"Dequeue:\", deque(lis))\n",
    "print(\"Dequeue:\", deque(lis))\n",
    "print(\"Dequeue:\", deque(lis))\n",
    "\n",
    "print(\"Queue after dequeue:\", lis)\n",
    "\n",
    "\n",
    "\n"
   ]
  },
  {
   "cell_type": "code",
   "execution_count": 3,
   "metadata": {},
   "outputs": [],
   "source": [
    "import numpy as np\n",
    "stack = np.zeros(10)\n",
    "index = 0\n",
    "for i in range(50):\n",
    "    options = input(\"Enter Option 1.pop, 2.push, 3.exit: \")\n",
    "    if options == \"push\":\n",
    "        if index < 10:\n",
    "            number = int(input(\"Enter number that you want to add in stack: \"))\n",
    "            print(number)\n",
    "            stack[index] = number\n",
    "            print(stack)\n",
    "            index += 1\n",
    "            print(\"Index is -----\", index)\n",
    "        else:\n",
    "            index >= 10\n",
    "            print(\"Stack is full\")\n",
    "        \n",
    "    if options == \"pop\":\n",
    "        if index == 0:\n",
    "            print(\"Stack is empty\")\n",
    "        else:\n",
    "            stack[index-1] = 0\n",
    "            print(stack)\n",
    "            index -= 1\n",
    "    if options == \"exit\":\n",
    "        break\n",
    "            "
   ]
  },
  {
   "cell_type": "code",
   "execution_count": 2,
   "metadata": {},
   "outputs": [],
   "source": [
    "import numpy as np\n",
    "\n",
    "arr = np.zeros(10)\n",
    "index = 0\n",
    "for i in range(20):\n",
    "\n",
    "    option = input(\"Enter 1:enque , 2: deque , 3:exit\")\n",
    "    if (option == 1):\n",
    "        if index == 10:\n",
    "            print(\"Queue is Full\")\n",
    "        else:\n",
    "            num = int(input(\"Enter Number\"))\n",
    "            arr[index] =num\n",
    "            print(arr)\n",
    "            index +=1\n",
    "            print(index)\n",
    "    if (option ==2):\n",
    "        if index == 0:\n",
    "            print(\"Qeue is Empty\")\n",
    "        else:\n",
    "            arr[index] =0\n",
    "            print(arr)\n",
    "            index -=1\n",
    "            print(index)\n",
    "    if option ==3:\n",
    "        break\n",
    "    \n"
   ]
  }
 ],
 "metadata": {
  "kernelspec": {
   "display_name": "Python 3",
   "language": "python",
   "name": "python3"
  },
  "language_info": {
   "codemirror_mode": {
    "name": "ipython",
    "version": 3
   },
   "file_extension": ".py",
   "mimetype": "text/x-python",
   "name": "python",
   "nbconvert_exporter": "python",
   "pygments_lexer": "ipython3",
   "version": "3.10.7"
  }
 },
 "nbformat": 4,
 "nbformat_minor": 2
}
