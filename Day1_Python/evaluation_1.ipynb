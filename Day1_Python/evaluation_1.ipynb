{
 "cells": [
  {
   "cell_type": "markdown",
   "id": "3443b3de",
   "metadata": {},
   "source": [
    "### Question 1\n",
    "Given a list of integers nums and an integer target, return <i>indices of the two numbers such that they add up to target<i>. <br>\n",
    "\n",
    "Example 1:<br>\n",
    "\n",
    "Input: nums = [2,7,11,15], target = 9<br>\n",
    "Output: [0,1]"
   ]
  },
  {
   "cell_type": "code",
   "execution_count": 10,
   "id": "bb146485",
   "metadata": {},
   "outputs": [
    {
     "name": "stdout",
     "output_type": "stream",
     "text": [
      "[0, 3]\n"
     ]
    }
   ],
   "source": [
    "def two_sum(nums, target):\n",
    "    length = len(nums)\n",
    "    ans = []\n",
    "\n",
    "    for i in range(length):\n",
    "        for j in range(i+1, length):  # Start from i+1 to avoid using the same element twice\n",
    "            if nums[i] + nums[j] == target:\n",
    "                ans.append(i)\n",
    "                ans.append(j)\n",
    "\n",
    "    return ans\n",
    "\n",
    "result = two_sum([2, 7, 11, 15], 17)\n",
    "print(result)\n"
   ]
  },
  {
   "cell_type": "markdown",
   "id": "e473f396",
   "metadata": {},
   "source": [
    "### Question 2\n",
    "Given an integer x,<i> return true if x is a <br>\n",
    "palindrome</i><br>\n",
    ", and false otherwise. <br>\n",
    "Example 1:<br>\n",
    "\n",
    "Input: x = 121<br>\n",
    "Output: true<br>\n"
   ]
  },
  {
   "cell_type": "code",
   "execution_count": 46,
   "id": "83e210c0",
   "metadata": {},
   "outputs": [
    {
     "name": "stdout",
     "output_type": "stream",
     "text": [
      "true\n"
     ]
    }
   ],
   "source": [
    "\n",
    "def Palindrome(num): \n",
    "    return num == num[::-1]\n",
    "  \n",
    "  \n",
    "\n",
    "input = \"121\"\n",
    "a= Palindrome(input)\n",
    "if a: \n",
    "    print(\"true\") \n",
    "else: \n",
    "    print(\"false\") \n"
   ]
  },
  {
   "cell_type": "markdown",
   "id": "a2f1a21b",
   "metadata": {},
   "source": [
    "### Question 3\n",
    "Given two strings needle and haystack, return the index of the first occurrence of needle in haystack, or -1 if needle is not part of haystack.<br>\n",
    "\n",
    "Example 1:<br>\n",
    "Input: haystack = \"sadbutsad\", needle = \"sad\" <br>\n",
    "Output: 0<br>\n",
    "Explanation: \"sad\" occurs at index 0 and 6.<br>\n",
    "The first occurrence is at index 0, so we return 0.<br>\n",
    "\n",
    "Example 2:<br>\n",
    "Input: haystack = \"apple\", needle = \"appo\"<br>\n",
    "Output: -1<br>\n",
    "Explanation: \"leeto\" did not occur in \"leetcode\", so we return -1.<br>"
   ]
  },
  {
   "cell_type": "code",
   "execution_count": 49,
   "id": "600a06b5",
   "metadata": {},
   "outputs": [
    {
     "data": {
      "text/plain": [
       "-1"
      ]
     },
     "execution_count": 49,
     "metadata": {},
     "output_type": "execute_result"
    }
   ],
   "source": [
    "def indexchecker(string1 , string2):\n",
    "    if string2 in string1:\n",
    "        return 0\n",
    "    else: \n",
    "        return -1\n",
    "    \n",
    "haystack = \"apple\"\n",
    "needle = \"ale\"\n",
    "    \n",
    "indexchecker(haystack, needle)"
   ]
  },
  {
   "cell_type": "markdown",
   "id": "916e39e1",
   "metadata": {},
   "source": [
    "### Question 4\n",
    "\n",
    "Enter a number and have the program generate the Fibonacci sequence to that number or to the Nth number."
   ]
  },
  {
   "cell_type": "code",
   "execution_count": 53,
   "id": "2bc0707f",
   "metadata": {},
   "outputs": [
    {
     "name": "stdout",
     "output_type": "stream",
     "text": [
      "[0, 1, 1, 2, 3, 5, 8, 13, 21]\n"
     ]
    }
   ],
   "source": [
    "def fibonacci(n):\n",
    "    l =[0 ,1]\n",
    "    a = 0\n",
    "    b = 1\n",
    "    if n < 0:\n",
    "        print(\"Incorrect input\")\n",
    "    elif n == 0:\n",
    "        return a\n",
    "    elif n == 1:\n",
    "        return b\n",
    "    else:\n",
    "        for i in range(2, n+1):\n",
    "            c = a + b\n",
    "            a = b\n",
    "            b = c\n",
    "            l.append(c)\n",
    "        return l\n",
    " \n",
    "print(fibonacci(8))"
   ]
  },
  {
   "cell_type": "markdown",
   "id": "1f0c9bfa",
   "metadata": {},
   "source": [
    "### Question 5\n",
    "Given two integers, return True if the sum of the integers is 20 or if one of the integers is 20. If not, return False"
   ]
  },
  {
   "cell_type": "code",
   "execution_count": 15,
   "id": "4030ce7f",
   "metadata": {},
   "outputs": [
    {
     "data": {
      "text/plain": [
       "True"
      ]
     },
     "execution_count": 15,
     "metadata": {},
     "output_type": "execute_result"
    }
   ],
   "source": [
    "def sumtwenty( a ,b):\n",
    "    if a == 20 or b == 20 or a + b == 20:\n",
    "        return True\n",
    "    else:\n",
    "        return False\n",
    "    \n",
    "sumtwenty(10,10)"
   ]
  },
  {
   "cell_type": "markdown",
   "id": "947855f9",
   "metadata": {},
   "source": [
    "### Question 6\n",
    "\n",
    "Convert Celsius to Fahrenheit (Use list comprehension)<br>\n",
    "celsius = [0,10,20.1,34.5]"
   ]
  },
  {
   "cell_type": "code",
   "execution_count": 17,
   "id": "ee590475",
   "metadata": {},
   "outputs": [
    {
     "name": "stdout",
     "output_type": "stream",
     "text": [
      "[32.0, 50.0, 68.18, 94.1]\n"
     ]
    }
   ],
   "source": [
    "celsius = [0,10,20.1,34.5] \n",
    "fahrenheit = [celsius * 9/5 + 32 for celsius in celsius]\n",
    "print(fahrenheit)"
   ]
  },
  {
   "cell_type": "markdown",
   "id": "26d6af81",
   "metadata": {},
   "source": [
    "### Question 7\n",
    "\n",
    "Create a simple program to manage a stack? The stack should have a maximum limit of 10 elements. Include two functions: one for adding (pushing) an element to the stack and another for removing (popping) an element from the stack. If the stack is full and someone tries to add an element, return a message saying the stack is full. If the stack is empty and someone tries to remove an element, return a message saying the stack is empty and no element can be removed.<br>\n",
    "\n",
    "<b>Note:</b> Stack follows FIFO (first in first out) rule"
   ]
  },
  {
   "cell_type": "code",
   "execution_count": 78,
   "id": "da16794b",
   "metadata": {},
   "outputs": [
    {
     "name": "stdout",
     "output_type": "stream",
     "text": [
      "after pushing [0, 1, 2, 3, 4, 5, 6, 7, 8, 9]\n",
      "After Poping [0, 1, 2, 3, 4, 5, 6, 7, 8]\n"
     ]
    }
   ],
   "source": [
    "l = []\n",
    "\n",
    "def push(n):\n",
    "    if len(l)<=10:\n",
    "        l.append(n)\n",
    "    else:\n",
    "        print(\"List is Full Max range is 10\")\n",
    "\n",
    "def pop():\n",
    "    if len(l) == 0:\n",
    "        print(\"Cant Pop from Empty list\")\n",
    "       \n",
    "    else:\n",
    "        l.remove(l[-1])\n",
    "\n",
    "for i in range(10):\n",
    "\n",
    "  push(i)\n",
    "print(f\"after pushing {l}\")\n",
    "pop()\n",
    "\n",
    "print(f\"After Poping {l}\")"
   ]
  },
  {
   "cell_type": "code",
   "execution_count": 79,
   "id": "721de1ec",
   "metadata": {},
   "outputs": [
    {
     "name": "stdout",
     "output_type": "stream",
     "text": [
      "[0, 1, 2, 3, 4, 5, 6, 7]\n"
     ]
    }
   ],
   "source": [
    "pop()\n",
    "print(l)"
   ]
  },
  {
   "cell_type": "markdown",
   "id": "c34f3ddd",
   "metadata": {},
   "source": [
    "### Question 8\n",
    "\n",
    "Create a function which will take list as an input argument! If a number can be divided evenly by 3, print \"fizz.\" If it can be divided evenly by 5, print \"buzz.\" And if it can be divided evenly by both 3 and 5, print \"fizzbuzz.\"<br>\n",
    "<b>Note:</b>Use max two conditional statements."
   ]
  },
  {
   "cell_type": "code",
   "execution_count": 54,
   "id": "c49a4f61",
   "metadata": {},
   "outputs": [
    {
     "name": "stdout",
     "output_type": "stream",
     "text": [
      "1\n",
      "2\n",
      "fizz\n",
      "4\n",
      "buzz\n",
      "fizzbuzz\n",
      "fizzbuzz\n"
     ]
    }
   ],
   "source": [
    "def fizzbuzz(numbers):\n",
    "    for num in numbers:\n",
    "        result = \"\"\n",
    "        if num % 3 == 0:\n",
    "            result += \"fizz\"\n",
    "        if num % 5 == 0:\n",
    "            result += \"buzz\"\n",
    "        print(result or num)\n",
    "\n",
    "# Example usage:\n",
    "numbers_list = [1, 2, 3, 4, 5, 15, 30]\n",
    "fizzbuzz(numbers_list)\n"
   ]
  },
  {
   "cell_type": "code",
   "execution_count": 12,
   "id": "3b74cbea",
   "metadata": {},
   "outputs": [
    {
     "data": {
      "text/plain": [
       "'w'"
      ]
     },
     "execution_count": 12,
     "metadata": {},
     "output_type": "execute_result"
    }
   ],
   "source": [
    "a =\"eppllwe\"\n",
    "l =[]\n",
    "for i in a:\n",
    "    if a.count(i)==1:\n",
    "        l.append(i)\n",
    "l[0]"
   ]
  }
 ],
 "metadata": {
  "kernelspec": {
   "display_name": "Python 3 (ipykernel)",
   "language": "python",
   "name": "python3"
  },
  "language_info": {
   "codemirror_mode": {
    "name": "ipython",
    "version": 3
   },
   "file_extension": ".py",
   "mimetype": "text/x-python",
   "name": "python",
   "nbconvert_exporter": "python",
   "pygments_lexer": "ipython3",
   "version": "3.10.7"
  }
 },
 "nbformat": 4,
 "nbformat_minor": 5
}
