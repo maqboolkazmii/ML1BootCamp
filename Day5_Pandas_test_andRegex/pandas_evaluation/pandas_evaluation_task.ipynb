{
 "cells": [
  {
   "cell_type": "markdown",
   "metadata": {},
   "source": [
    "# Perform the following analysis on the provided file \"demo.csv\".\n",
    "\n",
    "\n",
    "## 1. Which month saw the highest joining of the employees\n",
    "\n",
    "   function name: max_joinings_month()\n",
    "   \n",
    "   inputs: DataFrame\n",
    "   \n",
    "   outputs: str\n",
    "   \n",
    "   \n",
    "## 2. What is the mean salary is the state KS\n",
    "   \n",
    "   function name: mean_ks_salary()\n",
    "   \n",
    "   inputs: DataFrame\n",
    "   \n",
    "   outputs: float\n",
    "   \n",
    "   \n",
    "## 3. Which Region has highest mean salary\n",
    "   \n",
    "   function name: max_mean_salary_region()\n",
    "   \n",
    "   inputs: DataFrame\n",
    "   \n",
    "   outputs: str\n",
    "   \n",
    "   \n",
    "## 4. Which region has lowest mean salary\n",
    "   \n",
    "   function name: min_mean_salary_region()\n",
    "   \n",
    "   inputs: DataFrame\n",
    "   \n",
    "   outputs: str\n",
    "   \n",
    "   \n",
    "## 5. Which City has highest mean weight\n",
    "   \n",
    "   function name: max_mean_weight_city()\n",
    "   \n",
    "   inputs: DataFrame\n",
    "   \n",
    "   outputs: str\n",
    "   \n",
    "   \n",
    "## 6. What is the difference between mean salary of Doctors and Professors\n",
    "   \n",
    "   function name: dr_prof_mean_salary_diff()\n",
    "   \n",
    "   inputs: DataFrame\n",
    "   \n",
    "   outputs: float\n",
    "   \n",
    "   \n",
    "## 7. How many female use yahoo\n",
    "   \n",
    "   function name: females_with_yahoo()\n",
    "   \n",
    "   inputs: DataFrame\n",
    "   \n",
    "   outputs: int\n",
    "   \n",
    "   \n",
    "## 8. How many Doctors use gmail\n",
    "   \n",
    "   function name: doctors_with_gmail()\n",
    "   \n",
    "   inputs: DataFrame\n",
    "   \n",
    "   outputs: int\n",
    "   \n",
    "   \n",
    "## 9. What is the password of the youngest male\n",
    "   \n",
    "   function name: youngest_male_password()\n",
    "   \n",
    "   inputs: DataFrame\n",
    "   \n",
    "   outputs: str\n"
   ]
  },
  {
   "cell_type": "code",
   "execution_count": 63,
   "metadata": {},
   "outputs": [],
   "source": [
    "import pandas as pd\n",
    "\n",
    "# demo.csv\n",
    "# file_path = \"demo.csv\"\n",
    "# df = pd.read_csv('D:\\ML1BootCamp\\Day5_Pandas_test\\pandas_evaluation\\demo.csv')\n",
    "# display(df)\n",
    "\n",
    "# test.csv\n",
    "file_path = \"test1.csv\"\n",
    "test_df = pd.read_csv(file_path)\n",
    "# display(test_df)\n"
   ]
  },
  {
   "cell_type": "markdown",
   "metadata": {},
   "source": [
    "## 1. Which month saw the highest joining of the employees\n",
    "\n",
    "   function name: max_joinings_month()\n",
    "   \n",
    "   inputs: DataFrame\n",
    "   \n",
    "   outputs: str"
   ]
  },
  {
   "cell_type": "code",
   "execution_count": 3,
   "metadata": {},
   "outputs": [
    {
     "data": {
      "text/plain": [
       "Index(['Emp ID', 'Name Prefix', 'First Name', 'Middle Initial', 'Last Name',\n",
       "       'Gender', 'E Mail', 'Father's Name', 'Mother's Name',\n",
       "       'Mother's Maiden Name', 'Date of Birth', 'Time of Birth', 'Age in Yrs.',\n",
       "       'Weight in Kgs.', 'Date of Joining', 'Quarter of Joining',\n",
       "       'Half of Joining', 'Year of Joining', 'Month of Joining',\n",
       "       'Month Name of Joining', 'Short Month', 'Day of Joining',\n",
       "       'DOW of Joining', 'Short DOW', 'Age in Company (Years)', 'Salary',\n",
       "       'Last % Hike', 'SSN', 'Phone No. ', 'Place Name', 'County', 'City',\n",
       "       'State', 'Zip', 'Region', 'User Name', 'Password'],\n",
       "      dtype='object')"
      ]
     },
     "execution_count": 3,
     "metadata": {},
     "output_type": "execute_result"
    }
   ],
   "source": [
    "df.columns"
   ]
  },
  {
   "cell_type": "code",
   "execution_count": 7,
   "metadata": {},
   "outputs": [
    {
     "data": {
      "text/plain": [
       "'April'"
      ]
     },
     "execution_count": 7,
     "metadata": {},
     "output_type": "execute_result"
    }
   ],
   "source": [
    "max_join =df.groupby('Month Name of Joining')['Emp ID'].count().idxmax()\n",
    "# max=  max_join.idxmax()\n",
    "# max\n",
    "max_join"
   ]
  },
  {
   "cell_type": "code",
   "execution_count": 64,
   "metadata": {},
   "outputs": [
    {
     "name": "stdout",
     "output_type": "stream",
     "text": [
      "on demo.csv April\n",
      "on test.csv December\n"
     ]
    }
   ],
   "source": [
    "def max_joinings_month(df):\n",
    "    mxjoin = df.groupby(\"Month Name of Joining\")['Emp ID'].count().idxmax()\n",
    "    return mxjoin\n",
    "\n",
    "print(\"on demo.csv\",max_joinings_month(df))\n",
    "print(\"on test.csv\",max_joinings_month(test_df))\n"
   ]
  },
  {
   "cell_type": "markdown",
   "metadata": {},
   "source": [
    "## 2. What is the mean salary is the state KS\n",
    "   \n",
    "   function name: mean_ks_salary()\n",
    "   \n",
    "   inputs: DataFrame\n",
    "   \n",
    "   outputs: float"
   ]
  },
  {
   "cell_type": "code",
   "execution_count": 17,
   "metadata": {},
   "outputs": [
    {
     "data": {
      "text/plain": [
       "104225.45454545454"
      ]
     },
     "execution_count": 17,
     "metadata": {},
     "output_type": "execute_result"
    }
   ],
   "source": [
    "df.loc[df[\"State\"] == \"KS\", \"Salary\"].mean()\n"
   ]
  },
  {
   "cell_type": "code",
   "execution_count": 65,
   "metadata": {},
   "outputs": [
    {
     "name": "stdout",
     "output_type": "stream",
     "text": [
      "on demo.csv 104225.45454545454\n",
      "on test.csv 121682.33333333333\n"
     ]
    }
   ],
   "source": [
    "def mean_ks_salary(df):\n",
    "    # your code here\n",
    "    mean_salry = df.loc[df[\"State\"] == \"KS\", \"Salary\"].mean()\n",
    "    return mean_salry\n",
    "print(\"on demo.csv\",mean_ks_salary(df))\n",
    "print(\"on test.csv\",mean_ks_salary(test_df))\n"
   ]
  },
  {
   "cell_type": "markdown",
   "metadata": {},
   "source": [
    "## 3. Which Region has highest mean salary\n",
    "   \n",
    "   function name: max_mean_salary_region()\n",
    "   \n",
    "   inputs: DataFrame\n",
    "   \n",
    "   outputs: str"
   ]
  },
  {
   "cell_type": "code",
   "execution_count": 20,
   "metadata": {},
   "outputs": [
    {
     "data": {
      "text/plain": [
       "'Midwest'"
      ]
     },
     "execution_count": 20,
     "metadata": {},
     "output_type": "execute_result"
    }
   ],
   "source": [
    "df.groupby('Region')['Salary'].mean().idxmax()"
   ]
  },
  {
   "cell_type": "code",
   "execution_count": 66,
   "metadata": {},
   "outputs": [
    {
     "name": "stdout",
     "output_type": "stream",
     "text": [
      "on demo.csv Midwest\n",
      "on test.csv West\n"
     ]
    }
   ],
   "source": [
    "def max_mean_salary_region(df):\n",
    "    # your code here\n",
    "    return df.groupby('Region')['Salary'].mean().idxmax()\n",
    "\n",
    "print(\"on demo.csv\",max_mean_salary_region(df))\n",
    "print(\"on test.csv\",max_mean_salary_region(test_df))\n"
   ]
  },
  {
   "cell_type": "markdown",
   "metadata": {},
   "source": [
    "## 4. Which region has lowest mean salary\n",
    "   \n",
    "   function name: min_mean_salary_region()\n",
    "   \n",
    "   inputs: DataFrame\n",
    "   \n",
    "   outputs: str"
   ]
  },
  {
   "cell_type": "code",
   "execution_count": 23,
   "metadata": {},
   "outputs": [
    {
     "data": {
      "text/plain": [
       "'West'"
      ]
     },
     "execution_count": 23,
     "metadata": {},
     "output_type": "execute_result"
    }
   ],
   "source": [
    "df.groupby('Region')['Salary'].mean().idxmin()"
   ]
  },
  {
   "cell_type": "code",
   "execution_count": 67,
   "metadata": {},
   "outputs": [
    {
     "name": "stdout",
     "output_type": "stream",
     "text": [
      "on demo.csv West\n",
      "on test.csv Midwest\n"
     ]
    }
   ],
   "source": [
    "def min_mean_salary_region(df):\n",
    "    return df.groupby('Region')['Salary'].mean().idxmin()\n",
    "\n",
    "print(\"on demo.csv\",min_mean_salary_region(df))\n",
    "print(\"on test.csv\",min_mean_salary_region(test_df))\n"
   ]
  },
  {
   "cell_type": "markdown",
   "metadata": {},
   "source": [
    "## 5. Which City has highest mean weight\n",
    "   \n",
    "   function name: max_mean_weight_city()\n",
    "   \n",
    "   inputs: DataFrame\n",
    "   \n",
    "   outputs: str"
   ]
  },
  {
   "cell_type": "code",
   "execution_count": 27,
   "metadata": {},
   "outputs": [
    {
     "data": {
      "text/plain": [
       "Index(['Emp ID', 'Name Prefix', 'First Name', 'Middle Initial', 'Last Name',\n",
       "       'Gender', 'E Mail', 'Father's Name', 'Mother's Name',\n",
       "       'Mother's Maiden Name', 'Date of Birth', 'Time of Birth', 'Age in Yrs.',\n",
       "       'Weight in Kgs.', 'Date of Joining', 'Quarter of Joining',\n",
       "       'Half of Joining', 'Year of Joining', 'Month of Joining',\n",
       "       'Month Name of Joining', 'Short Month', 'Day of Joining',\n",
       "       'DOW of Joining', 'Short DOW', 'Age in Company (Years)', 'Salary',\n",
       "       'Last % Hike', 'SSN', 'Phone No. ', 'Place Name', 'County', 'City',\n",
       "       'State', 'Zip', 'Region', 'User Name', 'Password'],\n",
       "      dtype='object')"
      ]
     },
     "execution_count": 27,
     "metadata": {},
     "output_type": "execute_result"
    }
   ],
   "source": [
    "df.columns"
   ]
  },
  {
   "cell_type": "code",
   "execution_count": 26,
   "metadata": {},
   "outputs": [
    {
     "data": {
      "text/plain": [
       "'Conroe'"
      ]
     },
     "execution_count": 26,
     "metadata": {},
     "output_type": "execute_result"
    }
   ],
   "source": [
    "df.groupby('City')['Weight in Kgs.'].mean().idxmax()"
   ]
  },
  {
   "cell_type": "code",
   "execution_count": 68,
   "metadata": {},
   "outputs": [
    {
     "name": "stdout",
     "output_type": "stream",
     "text": [
      "on demo.csv Conroe\n",
      "on test.csv Conroe\n"
     ]
    }
   ],
   "source": [
    "def max_mean_weight_city(df):\n",
    "    # your code here\n",
    "    return df.groupby('City')['Weight in Kgs.'].mean().idxmax()\n",
    "\n",
    "print(\"on demo.csv\",max_mean_weight_city(df))\n",
    "print(\"on test.csv\",max_mean_weight_city(test_df))\n"
   ]
  },
  {
   "cell_type": "markdown",
   "metadata": {},
   "source": [
    "## 6. What is the difference between mean salary of Doctors and Professors\n",
    "   \n",
    "   function name: dr_prof_mean_salary_diff()\n",
    "   \n",
    "   inputs: DataFrame\n",
    "   \n",
    "   outputs: float"
   ]
  },
  {
   "cell_type": "code",
   "execution_count": 29,
   "metadata": {},
   "outputs": [
    {
     "data": {
      "text/plain": [
       "Mr.      347\n",
       "Ms.      227\n",
       "Mrs.     161\n",
       "Hon.      89\n",
       "Dr.       64\n",
       "Drs.      58\n",
       "Prof.     54\n",
       "Name: Name Prefix, dtype: int64"
      ]
     },
     "execution_count": 29,
     "metadata": {},
     "output_type": "execute_result"
    }
   ],
   "source": [
    "df['Name Prefix'].value_counts()"
   ]
  },
  {
   "cell_type": "code",
   "execution_count": 31,
   "metadata": {},
   "outputs": [],
   "source": [
    "df['Name Prefix'] = df['Name Prefix'].replace('Drs.', 'Dr.')"
   ]
  },
  {
   "cell_type": "code",
   "execution_count": 32,
   "metadata": {},
   "outputs": [
    {
     "data": {
      "text/plain": [
       "120150.5737704918"
      ]
     },
     "execution_count": 32,
     "metadata": {},
     "output_type": "execute_result"
    }
   ],
   "source": [
    "df.loc[(df[\"Name Prefix\"] == \"Dr.\"), \"Salary\"].mean()"
   ]
  },
  {
   "cell_type": "code",
   "execution_count": 83,
   "metadata": {},
   "outputs": [
    {
     "name": "stdout",
     "output_type": "stream",
     "text": [
      "on demo.csv 2635.981785063763\n",
      "on test.csv 6500.446180555562\n"
     ]
    }
   ],
   "source": [
    "def dr_prof_mean_salary_diff(df):\n",
    "    drsalary_mean = df.loc[(df[\"Name Prefix\"] == \"Dr.\"), \"Salary\"].mean()\n",
    "    prof_salary_mean = df.loc[(df[\"Name Prefix\"] == \"Prof.\"), \"Salary\"].mean()\n",
    "    return abs(prof_salary_mean-drsalary_mean)\n",
    "\n",
    "\n",
    "print(\"on demo.csv\",dr_prof_mean_salary_diff(df))\n",
    "print(\"on test.csv\",dr_prof_mean_salary_diff(test_df))\n"
   ]
  },
  {
   "cell_type": "markdown",
   "metadata": {},
   "source": [
    "## 7. How many female use yahoo\n",
    "   \n",
    "   function name: females_with_yahoo()\n",
    "   \n",
    "   inputs: DataFrame\n",
    "   \n",
    "   outputs: int"
   ]
  },
  {
   "cell_type": "code",
   "execution_count": 36,
   "metadata": {},
   "outputs": [
    {
     "data": {
      "text/html": [
       "<div>\n",
       "<style scoped>\n",
       "    .dataframe tbody tr th:only-of-type {\n",
       "        vertical-align: middle;\n",
       "    }\n",
       "\n",
       "    .dataframe tbody tr th {\n",
       "        vertical-align: top;\n",
       "    }\n",
       "\n",
       "    .dataframe thead th {\n",
       "        text-align: right;\n",
       "    }\n",
       "</style>\n",
       "<table border=\"1\" class=\"dataframe\">\n",
       "  <thead>\n",
       "    <tr style=\"text-align: right;\">\n",
       "      <th></th>\n",
       "      <th>Emp ID</th>\n",
       "      <th>Name Prefix</th>\n",
       "      <th>First Name</th>\n",
       "      <th>Middle Initial</th>\n",
       "      <th>Last Name</th>\n",
       "      <th>Gender</th>\n",
       "      <th>E Mail</th>\n",
       "      <th>Father's Name</th>\n",
       "      <th>Mother's Name</th>\n",
       "      <th>Mother's Maiden Name</th>\n",
       "      <th>...</th>\n",
       "      <th>SSN</th>\n",
       "      <th>Phone No.</th>\n",
       "      <th>Place Name</th>\n",
       "      <th>County</th>\n",
       "      <th>City</th>\n",
       "      <th>State</th>\n",
       "      <th>Zip</th>\n",
       "      <th>Region</th>\n",
       "      <th>User Name</th>\n",
       "      <th>Password</th>\n",
       "    </tr>\n",
       "  </thead>\n",
       "  <tbody>\n",
       "    <tr>\n",
       "      <th>0</th>\n",
       "      <td>850297</td>\n",
       "      <td>Ms.</td>\n",
       "      <td>Shawna</td>\n",
       "      <td>W</td>\n",
       "      <td>Buck</td>\n",
       "      <td>F</td>\n",
       "      <td>shawna.buck@gmail.com</td>\n",
       "      <td>Rosario Buck</td>\n",
       "      <td>Keisha Buck</td>\n",
       "      <td>Hendricks</td>\n",
       "      <td>...</td>\n",
       "      <td>222-11-7603</td>\n",
       "      <td>702-771-7149</td>\n",
       "      <td>Las Vegas</td>\n",
       "      <td>Clark</td>\n",
       "      <td>Las Vegas</td>\n",
       "      <td>NV</td>\n",
       "      <td>89128</td>\n",
       "      <td>West</td>\n",
       "      <td>swbuck</td>\n",
       "      <td>ja8?k3BTF^]o@&lt;&amp;</td>\n",
       "    </tr>\n",
       "    <tr>\n",
       "      <th>1</th>\n",
       "      <td>304721</td>\n",
       "      <td>Mr.</td>\n",
       "      <td>Nathaniel</td>\n",
       "      <td>Z</td>\n",
       "      <td>Burke</td>\n",
       "      <td>M</td>\n",
       "      <td>nathaniel.burke@walmart.com</td>\n",
       "      <td>Derrick Burke</td>\n",
       "      <td>Phoebe Burke</td>\n",
       "      <td>Pugh</td>\n",
       "      <td>...</td>\n",
       "      <td>550-99-9897</td>\n",
       "      <td>231-765-6923</td>\n",
       "      <td>Irons</td>\n",
       "      <td>Lake</td>\n",
       "      <td>Irons</td>\n",
       "      <td>MI</td>\n",
       "      <td>49644</td>\n",
       "      <td>Midwest</td>\n",
       "      <td>nzburke</td>\n",
       "      <td>tPA@4Wh9Ja$+Ln</td>\n",
       "    </tr>\n",
       "  </tbody>\n",
       "</table>\n",
       "<p>2 rows × 37 columns</p>\n",
       "</div>"
      ],
      "text/plain": [
       "   Emp ID Name Prefix First Name Middle Initial Last Name Gender  \\\n",
       "0  850297         Ms.     Shawna              W      Buck      F   \n",
       "1  304721         Mr.  Nathaniel              Z     Burke      M   \n",
       "\n",
       "                        E Mail  Father's Name Mother's Name  \\\n",
       "0        shawna.buck@gmail.com   Rosario Buck   Keisha Buck   \n",
       "1  nathaniel.burke@walmart.com  Derrick Burke  Phoebe Burke   \n",
       "\n",
       "  Mother's Maiden Name  ...          SSN    Phone No.   Place Name  County  \\\n",
       "0            Hendricks  ...  222-11-7603  702-771-7149   Las Vegas   Clark   \n",
       "1                 Pugh  ...  550-99-9897  231-765-6923       Irons    Lake   \n",
       "\n",
       "        City State    Zip   Region  User Name         Password  \n",
       "0  Las Vegas    NV  89128     West     swbuck  ja8?k3BTF^]o@<&  \n",
       "1      Irons    MI  49644  Midwest    nzburke   tPA@4Wh9Ja$+Ln  \n",
       "\n",
       "[2 rows x 37 columns]"
      ]
     },
     "execution_count": 36,
     "metadata": {},
     "output_type": "execute_result"
    }
   ],
   "source": [
    "df.head(2)"
   ]
  },
  {
   "cell_type": "code",
   "execution_count": 49,
   "metadata": {},
   "outputs": [
    {
     "data": {
      "text/plain": [
       "47"
      ]
     },
     "execution_count": 49,
     "metadata": {},
     "output_type": "execute_result"
    }
   ],
   "source": [
    "female = df[df['Gender'] == 'F']\n",
    "yahoof = female[female['E Mail'].str.endswith('@yahoo.com')]\n",
    "len(yahoof.index)"
   ]
  },
  {
   "cell_type": "code",
   "execution_count": 44,
   "metadata": {},
   "outputs": [
    {
     "data": {
      "text/plain": [
       "95"
      ]
     },
     "execution_count": 44,
     "metadata": {},
     "output_type": "execute_result"
    }
   ],
   "source": [
    "f=df[df['E Mail'].str.endswith('@yahoo.com')]\n",
    "len(f.index)"
   ]
  },
  {
   "cell_type": "code",
   "execution_count": 70,
   "metadata": {},
   "outputs": [
    {
     "name": "stdout",
     "output_type": "stream",
     "text": [
      "on demo.csv 47\n",
      "on test.csv 161\n"
     ]
    }
   ],
   "source": [
    "def females_with_yahoo(df):\n",
    "    # your code here\n",
    "    female = df[df['Gender'] == 'F']\n",
    "    yahoof = female[female['E Mail'].str.endswith('@yahoo.com')]\n",
    "    return len(yahoof.index)\n",
    "\n",
    "print(\"on demo.csv\",females_with_yahoo(df))\n",
    "print(\"on test.csv\",females_with_yahoo(test_df))\n"
   ]
  },
  {
   "cell_type": "markdown",
   "metadata": {},
   "source": [
    "## 8. How many Doctors use gmail\n",
    "   \n",
    "   function name: doctors_with_gmail()\n",
    "   \n",
    "   inputs: DataFrame\n",
    "   \n",
    "   outputs: int"
   ]
  },
  {
   "cell_type": "code",
   "execution_count": 71,
   "metadata": {},
   "outputs": [
    {
     "name": "stdout",
     "output_type": "stream",
     "text": [
      "on demo.csv 42\n",
      "on test.csv 5\n"
     ]
    }
   ],
   "source": [
    "def doctors_with_gmail(df):\n",
    "    # your code here\n",
    "    dr= df[df['Name Prefix'] == 'Dr.']\n",
    "    gmail = dr[dr['E Mail'].str.endswith('@gmail.com')]\n",
    "    return len(gmail.index)\n",
    "\n",
    "print(\"on demo.csv\",doctors_with_gmail(df))\n",
    "print(\"on test.csv\",doctors_with_gmail(test_df))\n"
   ]
  },
  {
   "cell_type": "markdown",
   "metadata": {},
   "source": [
    "## 9. What is the password of the youngest male\n",
    "   \n",
    "   function name: youngest_male_password()\n",
    "   \n",
    "   inputs: DataFrame\n",
    "   \n",
    "   outputs: str"
   ]
  },
  {
   "cell_type": "code",
   "execution_count": 57,
   "metadata": {},
   "outputs": [
    {
     "data": {
      "text/html": [
       "<div>\n",
       "<style scoped>\n",
       "    .dataframe tbody tr th:only-of-type {\n",
       "        vertical-align: middle;\n",
       "    }\n",
       "\n",
       "    .dataframe tbody tr th {\n",
       "        vertical-align: top;\n",
       "    }\n",
       "\n",
       "    .dataframe thead th {\n",
       "        text-align: right;\n",
       "    }\n",
       "</style>\n",
       "<table border=\"1\" class=\"dataframe\">\n",
       "  <thead>\n",
       "    <tr style=\"text-align: right;\">\n",
       "      <th></th>\n",
       "      <th>Emp ID</th>\n",
       "      <th>Name Prefix</th>\n",
       "      <th>First Name</th>\n",
       "      <th>Middle Initial</th>\n",
       "      <th>Last Name</th>\n",
       "      <th>Gender</th>\n",
       "      <th>E Mail</th>\n",
       "      <th>Father's Name</th>\n",
       "      <th>Mother's Name</th>\n",
       "      <th>Mother's Maiden Name</th>\n",
       "      <th>...</th>\n",
       "      <th>SSN</th>\n",
       "      <th>Phone No.</th>\n",
       "      <th>Place Name</th>\n",
       "      <th>County</th>\n",
       "      <th>City</th>\n",
       "      <th>State</th>\n",
       "      <th>Zip</th>\n",
       "      <th>Region</th>\n",
       "      <th>User Name</th>\n",
       "      <th>Password</th>\n",
       "    </tr>\n",
       "  </thead>\n",
       "  <tbody>\n",
       "    <tr>\n",
       "      <th>1</th>\n",
       "      <td>304721</td>\n",
       "      <td>Mr.</td>\n",
       "      <td>Nathaniel</td>\n",
       "      <td>Z</td>\n",
       "      <td>Burke</td>\n",
       "      <td>M</td>\n",
       "      <td>nathaniel.burke@walmart.com</td>\n",
       "      <td>Derrick Burke</td>\n",
       "      <td>Phoebe Burke</td>\n",
       "      <td>Pugh</td>\n",
       "      <td>...</td>\n",
       "      <td>550-99-9897</td>\n",
       "      <td>231-765-6923</td>\n",
       "      <td>Irons</td>\n",
       "      <td>Lake</td>\n",
       "      <td>Irons</td>\n",
       "      <td>MI</td>\n",
       "      <td>49644</td>\n",
       "      <td>Midwest</td>\n",
       "      <td>nzburke</td>\n",
       "      <td>tPA@4Wh9Ja$+Ln</td>\n",
       "    </tr>\n",
       "    <tr>\n",
       "      <th>5</th>\n",
       "      <td>520092</td>\n",
       "      <td>Mr.</td>\n",
       "      <td>Lamont</td>\n",
       "      <td>L</td>\n",
       "      <td>Woods</td>\n",
       "      <td>M</td>\n",
       "      <td>lamont.woods@hotmail.com</td>\n",
       "      <td>Ignacio Woods</td>\n",
       "      <td>Beulah Woods</td>\n",
       "      <td>Trujillo</td>\n",
       "      <td>...</td>\n",
       "      <td>037-74-2595</td>\n",
       "      <td>236-597-8196</td>\n",
       "      <td>Purcellville</td>\n",
       "      <td>Loudoun</td>\n",
       "      <td>Purcellville</td>\n",
       "      <td>VA</td>\n",
       "      <td>20134</td>\n",
       "      <td>South</td>\n",
       "      <td>llwoods</td>\n",
       "      <td>8tf/YU}&gt;s</td>\n",
       "    </tr>\n",
       "  </tbody>\n",
       "</table>\n",
       "<p>2 rows × 37 columns</p>\n",
       "</div>"
      ],
      "text/plain": [
       "   Emp ID Name Prefix First Name Middle Initial Last Name Gender  \\\n",
       "1  304721         Mr.  Nathaniel              Z     Burke      M   \n",
       "5  520092         Mr.     Lamont              L     Woods      M   \n",
       "\n",
       "                        E Mail  Father's Name Mother's Name  \\\n",
       "1  nathaniel.burke@walmart.com  Derrick Burke  Phoebe Burke   \n",
       "5     lamont.woods@hotmail.com  Ignacio Woods  Beulah Woods   \n",
       "\n",
       "  Mother's Maiden Name  ...          SSN    Phone No.     Place Name   County  \\\n",
       "1                 Pugh  ...  550-99-9897  231-765-6923         Irons     Lake   \n",
       "5             Trujillo  ...  037-74-2595  236-597-8196  Purcellville  Loudoun   \n",
       "\n",
       "           City State    Zip   Region  User Name        Password  \n",
       "1         Irons    MI  49644  Midwest    nzburke  tPA@4Wh9Ja$+Ln  \n",
       "5  Purcellville    VA  20134    South    llwoods       8tf/YU}>s  \n",
       "\n",
       "[2 rows x 37 columns]"
      ]
     },
     "execution_count": 57,
     "metadata": {},
     "output_type": "execute_result"
    }
   ],
   "source": [
    "male = df[df['Gender'] == 'M']\n",
    "male.head(2)"
   ]
  },
  {
   "cell_type": "code",
   "execution_count": 81,
   "metadata": {},
   "outputs": [
    {
     "data": {
      "text/plain": [
       "'xPr\\\\aGPTQ#v'"
      ]
     },
     "execution_count": 81,
     "metadata": {},
     "output_type": "execute_result"
    }
   ],
   "source": [
    "male = df[df['Gender'] == 'M']\n",
    "df.loc[male['Age in Yrs.'].idxmin()]['Password']\n",
    "\n"
   ]
  },
  {
   "cell_type": "code",
   "execution_count": 82,
   "metadata": {},
   "outputs": [
    {
     "name": "stdout",
     "output_type": "stream",
     "text": [
      "on demo.csv xPr\\aGPTQ#v\n",
      "on test.csv xPr\\aGPTQ#v\n"
     ]
    }
   ],
   "source": [
    "def youngest_male_password(df):\n",
    "    # your code here\n",
    "    male = df[df['Gender'] == 'M']\n",
    "    return df.loc[male['Age in Yrs.'].idxmin()]['Password']\n",
    "\n",
    "print(\"on demo.csv\",youngest_male_password(df))\n",
    "print(\"on test.csv\",youngest_male_password(test_df))"
   ]
  }
 ],
 "metadata": {
  "kernelspec": {
   "display_name": "Python 3",
   "language": "python",
   "name": "python3"
  },
  "language_info": {
   "codemirror_mode": {
    "name": "ipython",
    "version": 3
   },
   "file_extension": ".py",
   "mimetype": "text/x-python",
   "name": "python",
   "nbconvert_exporter": "python",
   "pygments_lexer": "ipython3",
   "version": "3.10.7"
  }
 },
 "nbformat": 4,
 "nbformat_minor": 2
}
