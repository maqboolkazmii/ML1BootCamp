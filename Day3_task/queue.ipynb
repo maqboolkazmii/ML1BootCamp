{
 "cells": [
  {
   "cell_type": "code",
   "execution_count": 18,
   "metadata": {},
   "outputs": [
    {
     "name": "stdout",
     "output_type": "stream",
     "text": [
      "Queue: [1, 2, 3]\n",
      "Dequeue: 1\n",
      "Dequeue: 2\n",
      "Dequeue: 3\n",
      "Empty\n",
      "Dequeue: None\n",
      "Queue after dequeue: []\n"
     ]
    }
   ],
   "source": [
    "def enque(queue, item):\n",
    "    queue.append(item)\n",
    "\n",
    "def deque(queue):\n",
    "    if not (len(queue) == 0):\n",
    "        return queue.pop(0)\n",
    "    else:\n",
    "        print(\"Empty\")\n",
    "\n",
    "\n",
    "\n",
    "\n",
    "\n",
    "\n",
    "lis = []\n",
    "\n",
    "enque(lis, 1)\n",
    "enque(lis, 2)\n",
    "enque(lis, 3)\n",
    "\n",
    "print(\"Queue:\", lis)\n",
    "\n",
    "print(\"Dequeue:\", deque(lis))\n",
    "print(\"Dequeue:\", deque(lis))\n",
    "print(\"Dequeue:\", deque(lis))\n",
    "print(\"Dequeue:\", deque(lis))\n",
    "print(\"Queue after dequeue:\", lis)\n",
    "\n",
    "\n",
    "\n"
   ]
  }
 ],
 "metadata": {
  "kernelspec": {
   "display_name": "Python 3",
   "language": "python",
   "name": "python3"
  },
  "language_info": {
   "codemirror_mode": {
    "name": "ipython",
    "version": 3
   },
   "file_extension": ".py",
   "mimetype": "text/x-python",
   "name": "python",
   "nbconvert_exporter": "python",
   "pygments_lexer": "ipython3",
   "version": "3.10.7"
  }
 },
 "nbformat": 4,
 "nbformat_minor": 2
}
