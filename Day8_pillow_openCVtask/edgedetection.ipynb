{
 "cells": [
  {
   "cell_type": "code",
   "execution_count": 18,
   "metadata": {},
   "outputs": [],
   "source": [
    "import cv2 \n",
    "import numpy as np \n",
    "import matplotlib.pyplot as plt\n",
    "\n",
    "path = r'D:\\ML1BootCamp\\Day8_pillow_openCVtask\\cnicsign\\real1\\00202002.png'\n",
    "img =  cv2.imread(path)\n",
    "resize = cv2.resize(img, (200,60))\n",
    "# Convert BGR image to RGB \n",
    "image_rgb = cv2.cvtColor(resize, cv2.COLOR_BGR2RGB)\n",
    "\n",
    "#cany edge dection\n",
    "edge = cv2.Canny(image_rgb, threshold1=100 ,threshold2=500)\n",
    "\n",
    "# cv2.imshow('Baboon', img)\n",
    "# cv2.imshow('Baboonrgb', image_rgb)\n",
    "cv2.imshow(\"edge\",edge)\n",
    "cv2.waitKey(0)\n",
    "cv2.destroyAllWindows()"
   ]
  },
  {
   "cell_type": "code",
   "execution_count": 19,
   "metadata": {},
   "outputs": [
    {
     "data": {
      "text/plain": [
       "(60, 200)"
      ]
     },
     "execution_count": 19,
     "metadata": {},
     "output_type": "execute_result"
    }
   ],
   "source": [
    "edge.shape"
   ]
  }
 ],
 "metadata": {
  "kernelspec": {
   "display_name": "Python 3",
   "language": "python",
   "name": "python3"
  },
  "language_info": {
   "codemirror_mode": {
    "name": "ipython",
    "version": 3
   },
   "file_extension": ".py",
   "mimetype": "text/x-python",
   "name": "python",
   "nbconvert_exporter": "python",
   "pygments_lexer": "ipython3",
   "version": "3.10.7"
  }
 },
 "nbformat": 4,
 "nbformat_minor": 2
}
