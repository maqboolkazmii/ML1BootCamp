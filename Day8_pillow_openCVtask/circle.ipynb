{
 "cells": [
  {
   "cell_type": "code",
   "execution_count": 1,
   "metadata": {},
   "outputs": [],
   "source": [
    "import cv2\n",
    "import numpy as np \n",
    "import matplotlib.pyplot as plt \n",
    "\n",
    "path = 'D:/ML1BootCamp/Day8_pillow_openCVtask/abc.png'\n",
    "\n",
    "circle = cv2.imread(path)\n",
    "\n",
    "cv2.imshow('Circle Image', circle)\n",
    "cv2.waitKey(0)\n",
    "cv2.destroyAllWindows()"
   ]
  },
  {
   "cell_type": "code",
   "execution_count": 6,
   "metadata": {},
   "outputs": [],
   "source": [
    "\n",
    "import cv2\n",
    "import numpy as np \n",
    "import matplotlib.pyplot as plt\n",
    "path = r'D:/ML1BootCamp/Day8_pillow_openCVtask/abc.png'\n",
    "\n",
    "circle = cv2.imread(path)\n",
    "\n",
    "\n",
    "# Convert the image to HSV\n",
    "hsv_image = cv2.cvtColor(circle, cv2.COLOR_BGR2HSV)\n",
    "\n",
    "\n",
    "# lower_red = np.array([0, 0, 0])\n",
    "# upper_red = np.array([180, 255, 100])\n",
    "# Define the lower and upper HSV thresholds for red color\n",
    "lower_red = np.array([0, 100, 100], dtype=np.uint8)\n",
    "upper_red = np.array([10, 255, 255], dtype=np.uint8)\n",
    "\n",
    "# Create an HSV mask for the red object\n",
    "red_mask = cv2.inRange(hsv_image, lower_red, upper_red)\n",
    "\n",
    "result_image = cv2.bitwise_and(circle, circle, mask=red_mask)\n",
    "# Display the result\n",
    "# cv2.imshow('Orignal Image', circle)\n",
    "# cv2.imshow('hsv', hsv_image)\n",
    "# cv2.imshow('red mask', red_mask)\n",
    "cv2.imshow('resulted', result_image)\n",
    "cv2.waitKey(0)\n",
    "cv2.destroyAllWindows()\n"
   ]
  },
  {
   "cell_type": "code",
   "execution_count": 12,
   "metadata": {},
   "outputs": [],
   "source": [
    "import cv2\n",
    "import numpy as np\n",
    "\n",
    "path = r'D:/ML1BootCamp/Day8_pillow_openCVtask/abc.png'\n",
    "\n",
    "circle = cv2.imread(path)\n",
    "\n",
    "# Convert the image to HSV\n",
    "hsv_image = cv2.cvtColor(circle, cv2.COLOR_BGR2HSV)\n",
    "\n",
    "# Define the lower and upper HSV thresholds for red color\n",
    "lower_red = np.array([0, 100, 100], dtype=np.uint8)\n",
    "upper_red = np.array([10, 255, 255], dtype=np.uint8)\n",
    "\n",
    "# Create an HSV mask for the red object\n",
    "red_mask = cv2.inRange(hsv_image, lower_red, upper_red)\n",
    "\n",
    "# Set the intensity values of the red regions to black in the original image\n",
    "circle[red_mask != 0] = [0, 0, 0]\n",
    "\n",
    "# Display the result\n",
    "cv2.imshow('Original Image', circle)\n",
    "cv2.waitKey(0)\n",
    "cv2.destroyAllWindows()\n"
   ]
  },
  {
   "cell_type": "code",
   "execution_count": 11,
   "metadata": {},
   "outputs": [],
   "source": [
    "\n",
    "path =r'D:/ML1BootCamp/Day8_pillow_openCVtask/abc.png'\n",
    "circle = cv2.imread(path)\n",
    "\n",
    "# Create a circular mask\n",
    "height, width = circle.shape[:2]\n",
    "mask = np.zeros((height, width), dtype=np.uint8)\n",
    "center = (width // 2, height // 2)\n",
    "radius = 71\n",
    "cv2.circle(mask, center, radius, 255, thickness=6)\n",
    "\n",
    "# Set the color of the circle to black\n",
    "circle[mask == 255] = [0, 0, 0]\n",
    "\n",
    "# Display the result\n",
    "# cv2.imshow('red', circle)\n",
    "# cv2.imshow('mask', mask)\n",
    "cv2.imshow('Modified Image', circle)\n",
    "cv2.waitKey(0)\n",
    "cv2.destroyAllWindows()\n",
    "\n",
    "\n",
    "\n",
    "\n"
   ]
  },
  {
   "cell_type": "code",
   "execution_count": 14,
   "metadata": {},
   "outputs": [
    {
     "name": "stdout",
     "output_type": "stream",
     "text": [
      "^C\n",
      "Note: you may need to restart the kernel to use updated packages.\n"
     ]
    }
   ],
   "source": []
  },
  {
   "cell_type": "code",
   "execution_count": null,
   "metadata": {},
   "outputs": [],
   "source": [
    "import cv2\n",
    "\n",
    "# Load the pre-trained Haar cascade for face detection\n",
    "face_cascade = cv2.CascadeClassifier(cv2.data.haarcascades + 'haarcascade_frontalface_default.xml')\n",
    "\n",
    "# Read the input image\n",
    "image_path = 'path_to_your_image.jpg'\n",
    "img = cv2.imread(image_path)\n",
    "gray = cv2.cvtColor(img, cv2.COLOR_BGR2GRAY)\n",
    "\n",
    "# Perform face detection\n",
    "faces = face_cascade.detectMultiScale(gray, scaleFactor=1.3, minNeighbors=5)\n",
    "\n",
    "# Draw rectangles around the detected faces\n",
    "for (x, y, w, h) in faces:\n",
    "    cv2.rectangle(img, (x, y), (x+w, y+h), (255, 0, 0), 2)\n",
    "\n",
    "# Display the result\n",
    "cv2.imshow('Detected Faces', img)\n",
    "cv2.waitKey(0)\n",
    "cv2.destroyAllWindows()\n",
    "pip install labelImgpip install labelImg"
   ]
  }
 ],
 "metadata": {
  "kernelspec": {
   "display_name": "Python 3",
   "language": "python",
   "name": "python3"
  },
  "language_info": {
   "codemirror_mode": {
    "name": "ipython",
    "version": 3
   },
   "file_extension": ".py",
   "mimetype": "text/x-python",
   "name": "python",
   "nbconvert_exporter": "python",
   "pygments_lexer": "ipython3",
   "version": "3.10.7"
  }
 },
 "nbformat": 4,
 "nbformat_minor": 2
}
