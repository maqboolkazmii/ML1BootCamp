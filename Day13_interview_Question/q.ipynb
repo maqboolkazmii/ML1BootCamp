{
 "cells": [
  {
   "cell_type": "code",
   "execution_count": 8,
   "metadata": {},
   "outputs": [
    {
     "data": {
      "text/plain": [
       "3"
      ]
     },
     "execution_count": 8,
     "metadata": {},
     "output_type": "execute_result"
    }
   ],
   "source": [
    "Str = 'I am a boy.'\n",
    "\n",
    "s=Str.strip('0123456789!@#$%^&*()_-+=<>?/,.:;{}[]`~\\'\"\\\\')\n",
    "l=s.split(' ')\n",
    "len(l[-1])"
   ]
  },
  {
   "cell_type": "markdown",
   "metadata": {},
   "source": [
    "# Last word Lenth"
   ]
  },
  {
   "cell_type": "code",
   "execution_count": 10,
   "metadata": {},
   "outputs": [
    {
     "data": {
      "text/plain": [
       "7"
      ]
     },
     "execution_count": 10,
     "metadata": {},
     "output_type": "execute_result"
    }
   ],
   "source": [
    "def last_Word_length(sentence):\n",
    "    sentence = sentence.strip('0123456789!@#$%^&*()_-+=<>?/,.:;{}[]`~\\'\"\\\\')\n",
    "    word = sentence.split(' ')\n",
    "    last_word =word[-1]\n",
    "\n",
    "    return len(last_word)\n",
    "\n",
    "sentence = 'my name is Maqbool!'\n",
    "last_Word_length(sentence)"
   ]
  },
  {
   "cell_type": "markdown",
   "metadata": {},
   "source": [
    "# Max and Min in list without max function"
   ]
  },
  {
   "cell_type": "code",
   "execution_count": 21,
   "metadata": {},
   "outputs": [
    {
     "name": "stdout",
     "output_type": "stream",
     "text": [
      "66\n"
     ]
    }
   ],
   "source": [
    "l = [2,3,44,66,-1,34,43]\n",
    "max = l[0]\n",
    "for c in l:\n",
    "    if max <c:\n",
    "        max =c\n",
    "\n",
    "print(max)"
   ]
  },
  {
   "cell_type": "code",
   "execution_count": 27,
   "metadata": {},
   "outputs": [
    {
     "name": "stdout",
     "output_type": "stream",
     "text": [
      "Max & Min Values in list(403, -1)\n"
     ]
    }
   ],
   "source": [
    "def max_in_list(lis):\n",
    "    max =lis[0]  #assuming frist num max\n",
    "    min =lis[0]\n",
    "    for num in lis:\n",
    "        if num > max:\n",
    "            max = num\n",
    "        elif num < min:\n",
    "            min = num\n",
    "\n",
    "    return max ,min\n",
    "l = [2,3,44,6,-1,34,403]\n",
    "print(f\"Max & Min Values in list{max_in_list(l)}\")"
   ]
  },
  {
   "cell_type": "markdown",
   "metadata": {},
   "source": [
    "# index of min and max"
   ]
  },
  {
   "cell_type": "code",
   "execution_count": 29,
   "metadata": {},
   "outputs": [
    {
     "name": "stdout",
     "output_type": "stream",
     "text": [
      "Max & Min Values in list(6, 4)\n"
     ]
    }
   ],
   "source": [
    "def max_in_list(lis):\n",
    "    max =lis[0]  #assuming frist num max\n",
    "    min =lis[0]\n",
    "    for num in lis:\n",
    "        if num > max:\n",
    "            max = num\n",
    "        elif num < min:\n",
    "            min = num\n",
    "\n",
    "    return lis.index(max) ,lis.index(min)\n",
    "l = [2,3,44,6,-1,34,403]\n",
    "print(f\"Max & Min Values in list{max_in_list(l)}\")"
   ]
  },
  {
   "cell_type": "markdown",
   "metadata": {},
   "source": [
    "# sum of min and max num"
   ]
  },
  {
   "cell_type": "code",
   "execution_count": 33,
   "metadata": {},
   "outputs": [
    {
     "name": "stdout",
     "output_type": "stream",
     "text": [
      "402\n"
     ]
    }
   ],
   "source": [
    "l = [2,3,44,6,-1,34,403]\n",
    "\n",
    "max = 0\n",
    "min =0\n",
    "for i in range(len(l)):\n",
    "    if l[i]> max:\n",
    "        max = l[i]\n",
    "    if l[i]< min:\n",
    "        min = l[i]\n",
    "s =min+max\n",
    "print(s)\n",
    "        \n"
   ]
  },
  {
   "cell_type": "markdown",
   "metadata": {},
   "source": [
    "# String Swap capital and small"
   ]
  },
  {
   "cell_type": "code",
   "execution_count": 38,
   "metadata": {},
   "outputs": [
    {
     "name": "stdout",
     "output_type": "stream",
     "text": [
      "MmAaQq\n"
     ]
    }
   ],
   "source": [
    "str1 = 'MAQ'\n",
    "str2 = 'maq'\n",
    "\n",
    "new_str = ''\n",
    "for i in range(len(str1)):\n",
    "    new_str += str1[i]\n",
    "    new_str += str2[i]\n",
    "\n",
    "print(new_str)"
   ]
  },
  {
   "cell_type": "code",
   "execution_count": 44,
   "metadata": {},
   "outputs": [
    {
     "name": "stdout",
     "output_type": "stream",
     "text": [
      "MmAaQqBbOoOoLl\n"
     ]
    }
   ],
   "source": [
    "str1 = 'MAQBOOL'\n",
    "str2 = 'maqbool'\n",
    "\n",
    "new_str = ''\n",
    "\n",
    "for i in range(len(str1)):\n",
    "    new_str += str1[i]\n",
    "    new_str += str2[i]\n",
    "print(new_str)"
   ]
  }
 ],
 "metadata": {
  "kernelspec": {
   "display_name": "Python 3",
   "language": "python",
   "name": "python3"
  },
  "language_info": {
   "codemirror_mode": {
    "name": "ipython",
    "version": 3
   },
   "file_extension": ".py",
   "mimetype": "text/x-python",
   "name": "python",
   "nbconvert_exporter": "python",
   "pygments_lexer": "ipython3",
   "version": "3.10.7"
  }
 },
 "nbformat": 4,
 "nbformat_minor": 2
}
