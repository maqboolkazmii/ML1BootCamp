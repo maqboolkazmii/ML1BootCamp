{
 "cells": [
  {
   "cell_type": "markdown",
   "metadata": {},
   "source": [
    "## [] - Square brackets\n",
    "\n",
    "Square brackets specifies a set of characters you wish to match.\n",
    "\n",
    "- Here, [abc] will match if the string you are trying to match contains any of the a, b or c.\n",
    "\n",
    "- You can also specify a range of characters using - inside square brackets.\n",
    "\n",
    "    - [a-e] is the same as [abcde].\n",
    "    - [1-4] is the same as [1234].\n",
    "    - [0-39] is the same as [01239].\n",
    "- You can complement (invert) the character set by using caret ^ symbol at the start of a square-bracket.\n",
    "\n",
    "    - [^abc] means any character except a or b or c.\n",
    "    - [^0-9] means any non-digit character."
   ]
  },
  {
   "cell_type": "code",
   "execution_count": 15,
   "metadata": {},
   "outputs": [
    {
     "data": {
      "text/plain": [
       "['j', 'k', ' ', 'h', ' ', ' ']"
      ]
     },
     "execution_count": 15,
     "metadata": {},
     "output_type": "execute_result"
    }
   ],
   "source": [
    "import re\n",
    "\n",
    "txt = \"ajk abh abc \"\n",
    "pattern =r'[^abc]'\n",
    "\n",
    "re.findall(pattern,txt)"
   ]
  },
  {
   "cell_type": "code",
   "execution_count": 3,
   "metadata": {},
   "outputs": [
    {
     "data": {
      "text/plain": [
       "['apple', 'apple']"
      ]
     },
     "execution_count": 3,
     "metadata": {},
     "output_type": "execute_result"
    }
   ],
   "source": [
    "import re\n",
    "\n",
    "txt = \"I like apples and oranges, apple.\"\n",
    "\n",
    "re.findall(\"apple\", txt)"
   ]
  },
  {
   "cell_type": "markdown",
   "metadata": {},
   "source": [
    "#### The re.findall method returns a list of all matches."
   ]
  },
  {
   "cell_type": "code",
   "execution_count": 5,
   "metadata": {},
   "outputs": [
    {
     "data": {
      "text/plain": [
       "<re.Match object; span=(7, 12), match='apple'>"
      ]
     },
     "execution_count": 5,
     "metadata": {},
     "output_type": "execute_result"
    }
   ],
   "source": [
    "re.search('apple', txt)"
   ]
  },
  {
   "cell_type": "markdown",
   "metadata": {},
   "source": [
    "# Quantifiers:\n",
    "\n",
    "- Here, \\d matches any digit, and {n} specifies the exact number of occurrences.\n",
    "- The pattern \\d{3}-\\d{2}-\\d{4} matches a Social Security Number format"
   ]
  },
  {
   "cell_type": "code",
   "execution_count": 8,
   "metadata": {},
   "outputs": [
    {
     "data": {
      "text/plain": [
       "'123-45-6789'"
      ]
     },
     "execution_count": 8,
     "metadata": {},
     "output_type": "execute_result"
    }
   ],
   "source": [
    "pattern = r\"\\d{3}-\\d{2}-\\d{4}\"\n",
    "\n",
    "text = \"My SSN is 123-45-6789.\"\n",
    "\n",
    "match = re.search(pattern , text)\n",
    "match.group()\n"
   ]
  }
 ],
 "metadata": {
  "kernelspec": {
   "display_name": "Python 3",
   "language": "python",
   "name": "python3"
  },
  "language_info": {
   "codemirror_mode": {
    "name": "ipython",
    "version": 3
   },
   "file_extension": ".py",
   "mimetype": "text/x-python",
   "name": "python",
   "nbconvert_exporter": "python",
   "pygments_lexer": "ipython3",
   "version": "3.10.7"
  }
 },
 "nbformat": 4,
 "nbformat_minor": 2
}
